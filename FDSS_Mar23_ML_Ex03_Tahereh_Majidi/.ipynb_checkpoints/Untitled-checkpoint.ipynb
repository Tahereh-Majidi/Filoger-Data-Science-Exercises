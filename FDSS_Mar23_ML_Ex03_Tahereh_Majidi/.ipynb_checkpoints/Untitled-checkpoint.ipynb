{
 "cells": [
  {
   "cell_type": "markdown",
   "id": "d50dab16",
   "metadata": {},
   "source": [
    "Quick Sort is a popular sorting algorithm that works by partitioning an array into two subarrays, sorting them recursively, and then combining them to produce the final sorted array. The basic steps of the algorithm are:\n",
    "\n",
    "1.Select a pivot element from the array (usually the first or last element, or a random element).\n",
    "2.Partition the array into two subarrays: one containing elements less than the pivot, and one containing elements greater than or equal to the pivot.\n",
    "3.Recursively sort the two subarrays.\n",
    "4.Combine the sorted subarrays and the pivot element to produce the final sorted array."
   ]
  },
  {
   "cell_type": "code",
   "execution_count": 1,
   "id": "fa665e3b",
   "metadata": {},
   "outputs": [],
   "source": [
    "#importing numpy libarary\n",
    "import numpy as np"
   ]
  },
  {
   "cell_type": "code",
   "execution_count": 2,
   "id": "01456b4e",
   "metadata": {},
   "outputs": [],
   "source": [
    "#initializing input numpy array\n",
    "array1 = np.array([ 4, 6, 2, 5, 1, 3])\n",
    "  "
   ]
  },
  {
   "cell_type": "code",
   "execution_count": 3,
   "id": "2b55cc12",
   "metadata": {},
   "outputs": [
    {
     "name": "stdout",
     "output_type": "stream",
     "text": [
      "quick sort: [1 2 3 4 5 6]\n"
     ]
    }
   ],
   "source": [
    "#computing quick sort\n",
    "result1 = np.sort(array1, kind ='quicksort')\n",
    "print (f\"quick sort: {result1}\")"
   ]
  },
  {
   "cell_type": "markdown",
   "id": "f3d88b7f",
   "metadata": {},
   "source": [
    "Merge Sort is a popular sorting algorithm that works by dividing an unsorted array into two halves, recursively sorting each half, and then merging the sorted halves to produce a single sorted array. The basic steps of the algorithm are:\n",
    "\n",
    "1.Divide the unsorted array into two halves, a left half and a right half.\n",
    "2.Recursively sort the left half and the right half.\n",
    "3.Merge the sorted left half and the sorted right half to produce a single sorted array."
   ]
  },
  {
   "cell_type": "code",
   "execution_count": 4,
   "id": "bd17d4c6",
   "metadata": {},
   "outputs": [
    {
     "name": "stdout",
     "output_type": "stream",
     "text": [
      "merge sort:  [1 2 3 4 5 6]\n"
     ]
    }
   ],
   "source": [
    "#computing merge sort\n",
    "result2 = np.sort(array1, kind ='mergesort')\n",
    "print (f\"merge sort:  {result2}\")"
   ]
  },
  {
   "cell_type": "markdown",
   "id": "351832e2",
   "metadata": {},
   "source": [
    "Heap Sort is a sorting algorithm that works by building a binary heap from the array to be sorted, and repeatedly extracting the maximum element from the heap to produce a sorted list. The basic steps of the algorithm are:\n",
    "\n",
    "1.Build a binary heap from the array to be sorted.\n",
    "2.Repeatedly extract the maximum element from the heap and add it to the sorted list.\n",
    "3.Continue until the heap is empty, and the sorted list contains all the elements."
   ]
  },
  {
   "cell_type": "code",
   "execution_count": 5,
   "id": "8f7df13a",
   "metadata": {},
   "outputs": [
    {
     "name": "stdout",
     "output_type": "stream",
     "text": [
      "heap sort: [1 2 3 4 5 6]\n"
     ]
    }
   ],
   "source": [
    "#computing heapsort\n",
    "result3 = np.sort(array1, kind ='heapsort')\n",
    "print (f\"heap sort: {result3}\")"
   ]
  },
  {
   "cell_type": "code",
   "execution_count": null,
   "id": "b0c1da5f",
   "metadata": {},
   "outputs": [],
   "source": []
  },
  {
   "cell_type": "code",
   "execution_count": null,
   "id": "c0cf9834",
   "metadata": {},
   "outputs": [],
   "source": []
  },
  {
   "cell_type": "code",
   "execution_count": null,
   "id": "aeb0959c",
   "metadata": {},
   "outputs": [],
   "source": []
  }
 ],
 "metadata": {
  "kernelspec": {
   "display_name": "Python 3 (ipykernel)",
   "language": "python",
   "name": "python3"
  },
  "language_info": {
   "codemirror_mode": {
    "name": "ipython",
    "version": 3
   },
   "file_extension": ".py",
   "mimetype": "text/x-python",
   "name": "python",
   "nbconvert_exporter": "python",
   "pygments_lexer": "ipython3",
   "version": "3.9.13"
  }
 },
 "nbformat": 4,
 "nbformat_minor": 5
}
