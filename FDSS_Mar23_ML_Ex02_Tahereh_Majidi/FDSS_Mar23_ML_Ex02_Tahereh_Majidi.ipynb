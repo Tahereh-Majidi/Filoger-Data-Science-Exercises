{
 "cells": [
  {
   "cell_type": "code",
   "execution_count": 22,
   "metadata": {},
   "outputs": [
    {
     "name": "stdout",
     "output_type": "stream",
     "text": [
      "[41 19 96 34]\n",
      "96\n",
      "WIN\n"
     ]
    }
   ],
   "source": [
    "import numpy as np\n",
    "number=int(input(\"Enter your number: \"))\n",
    "array_1=np.random.randint(0,101,number)\n",
    "print(array_1)\n",
    "max_array=array_1.max()\n",
    "print(max_array)\n",
    "if max_array>70:\n",
    "    print(\"WIN\")\n",
    "else:\n",
    "    print(\"FAIL\")    "
   ]
  }
 ],
 "metadata": {
  "kernelspec": {
   "display_name": "base",
   "language": "python",
   "name": "python3"
  },
  "language_info": {
   "codemirror_mode": {
    "name": "ipython",
    "version": 3
   },
   "file_extension": ".py",
   "mimetype": "text/x-python",
   "name": "python",
   "nbconvert_exporter": "python",
   "pygments_lexer": "ipython3",
   "version": "3.9.13"
  },
  "orig_nbformat": 4
 },
 "nbformat": 4,
 "nbformat_minor": 2
}
