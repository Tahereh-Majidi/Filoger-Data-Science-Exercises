{
 "cells": [
  {
   "cell_type": "code",
   "execution_count": null,
   "id": "43cc369b",
   "metadata": {
    "papermill": {
     "duration": 0.019856,
     "end_time": "2023-08-26T15:24:46.730836",
     "exception": false,
     "start_time": "2023-08-26T15:24:46.710980",
     "status": "completed"
    },
    "tags": []
   },
   "outputs": [],
   "source": []
  },
  {
   "cell_type": "markdown",
   "id": "1b4d0629",
   "metadata": {
    "papermill": {
     "duration": 0.020276,
     "end_time": "2023-08-26T15:24:46.770543",
     "exception": false,
     "start_time": "2023-08-26T15:24:46.750267",
     "status": "completed"
    },
    "tags": []
   },
   "source": [
    "# <p style=\"background-color:#FF69B4;font-family:newtimeroman;color:black;font-size:150%;text-align:center;border-radius:10px 10px;\"> Employee-Worker </p>\n",
    "​\n",
    "<img src=\"https://uschamber-co.imgix.net/https%3A%2F%2Fs3.us-east-1.amazonaws.com%2Fco-assets%2Fassets%2Fimages%2FTemporary-Worker-Contractor-Difference.jpg?auto=compress%2Cformat&crop=focalpoint&fit=crop&fp-x=0.3289&fp-y=0.4046&h=415&q=88&w=622&s=72c84d21396ffa909c11e5aac3d6cd31\">\n",
    "​\n",
    "​\n",
    "<!-- <img src=\"https://cdn.dribbble.com/users/223902/screenshots/1772418/dribbble.jpg?compress=1&resize=800x600&vertical=top\">\n",
    "​\n",
    "<img src=\"https://cdn.dribbble.com/users/1209618/screenshots/3000481/media/2c83cb04193be0215eb94f62429b1a70.gif\"> -->\n",
    "​\n",
    "<b> Context </b>\n",
    "​\n",
    "Dataset contains following features:\n",
    "​\n",
    "\n",
    "**DATA DESCRIPTION**\n",
    "\n",
    "1. `satisfaction_level`: A numerical value representing the satisfaction level of the employee. It seems to range between 0 and 1, with 1 indicating high satisfaction.\n",
    "\n",
    "2. `last_evaluation`: A numerical value representing the last evaluation score of the employee. This score might be related to their performance evaluation.\n",
    "\n",
    "3. `number_project`: An integer representing the number of projects the employee is or was involved in.\n",
    "\n",
    "4. `average_montly_hours`: An integer representing the average number of monthly working hours for the employee.\n",
    "\n",
    "5. `time_spend_company`: An integer representing the number of years the employee has spent at the company.\n",
    "\n",
    "6. `Work_accident`: A binary value (0 or 1) indicating whether the employee has had a work accident or not.\n",
    "\n",
    "7. `left`: A binary value (0 or 1) indicating whether the employee has left the company (1) or is still employed (0).\n",
    "\n",
    "8. `promotion_last_5years`: A binary value (0 or 1) indicating whether the employee has received a promotion in the last 5 years.\n",
    "\n",
    "9. `sales`: This seems to represent the department or sales division in which the employee works.\n",
    "\n",
    "10. `salary`: This seems to represent the salary level of the employee, categorized as \"low,\" \"medium,\" or possibly other levels.\n",
    "\n"
   ]
  },
  {
   "cell_type": "markdown",
   "id": "2254466d",
   "metadata": {
    "papermill": {
     "duration": 0.018779,
     "end_time": "2023-08-26T15:24:46.808631",
     "exception": false,
     "start_time": "2023-08-26T15:24:46.789852",
     "status": "completed"
    },
    "tags": []
   },
   "source": [
    "<a id=\"1\"></a>\n",
    "# <p style=\"background-color:#FF69B4;font-family:newtimeroman;color:black;font-size:150%;text-align:center;border-radius:10px 10px;\">📚 IMPORTING LIBRARIES</p>"
   ]
  },
  {
   "cell_type": "code",
   "execution_count": 1,
   "id": "13bbb2b1",
   "metadata": {
    "execution": {
     "iopub.execute_input": "2023-08-26T15:24:46.849895Z",
     "iopub.status.busy": "2023-08-26T15:24:46.849278Z",
     "iopub.status.idle": "2023-08-26T15:24:50.650399Z",
     "shell.execute_reply": "2023-08-26T15:24:50.649121Z"
    },
    "papermill": {
     "duration": 3.82613,
     "end_time": "2023-08-26T15:24:50.653949",
     "exception": false,
     "start_time": "2023-08-26T15:24:46.827819",
     "status": "completed"
    },
    "tags": []
   },
   "outputs": [
    {
     "name": "stderr",
     "output_type": "stream",
     "text": [
      "/opt/conda/lib/python3.10/site-packages/scipy/__init__.py:146: UserWarning: A NumPy version >=1.16.5 and <1.23.0 is required for this version of SciPy (detected version 1.23.5\n",
      "  warnings.warn(f\"A NumPy version >={np_minversion} and <{np_maxversion}\"\n"
     ]
    }
   ],
   "source": [
    "import numpy as np\n",
    "import pandas as pd\n",
    "import matplotlib.pyplot as plt\n",
    "import matplotlib\n",
    "import seaborn as sns\n",
    "import datetime\n",
    "import folium\n",
    "from folium.plugins import HeatMap\n",
    "import plotly.express as px\n",
    "import warnings\n",
    "warnings.filterwarnings('ignore')\n",
    "import tabulate\n",
    "# import graphviz\n",
    "\n",
    "\n",
    "\n",
    "import scipy.stats as stats\n",
    "from sklearn.impute import KNNImputer, SimpleImputer\n",
    "from sklearn.preprocessing import LabelEncoder, OneHotEncoder, Normalizer, StandardScaler, MinMaxScaler\n",
    "from sklearn.compose import ColumnTransformer\n",
    "\n",
    "from sklearn import metrics\n",
    "\n",
    "from sklearn.neighbors import KNeighborsClassifier\n",
    "from sklearn.tree import DecisionTreeClassifier , plot_tree\n",
    "from sklearn.svm import SVC\n",
    "\n",
    "from sklearn.ensemble import RandomForestClassifier, AdaBoostClassifier\n",
    "from sklearn.model_selection import train_test_split, GridSearchCV, RandomizedSearchCV\n",
    "\n",
    "import xgboost as xgb\n",
    "\n",
    "from sklearn.pipeline import Pipeline"
   ]
  },
  {
   "cell_type": "code",
   "execution_count": 2,
   "id": "09715dca",
   "metadata": {
    "execution": {
     "iopub.execute_input": "2023-08-26T15:24:50.698408Z",
     "iopub.status.busy": "2023-08-26T15:24:50.697448Z",
     "iopub.status.idle": "2023-08-26T15:24:50.706790Z",
     "shell.execute_reply": "2023-08-26T15:24:50.705582Z"
    },
    "papermill": {
     "duration": 0.033784,
     "end_time": "2023-08-26T15:24:50.709596",
     "exception": false,
     "start_time": "2023-08-26T15:24:50.675812",
     "status": "completed"
    },
    "tags": []
   },
   "outputs": [],
   "source": [
    "# Set style of seaborn plots\n",
    "sns.set_style('darkgrid')\n",
    "\n",
    "# Palette\n",
    "palette = sns.color_palette('plasma')"
   ]
  },
  {
   "cell_type": "markdown",
   "id": "b6164e69",
   "metadata": {
    "papermill": {
     "duration": 0.019997,
     "end_time": "2023-08-26T15:24:50.750139",
     "exception": false,
     "start_time": "2023-08-26T15:24:50.730142",
     "status": "completed"
    },
    "tags": []
   },
   "source": [
    "<a id=\"2\"></a>\n",
    "\n",
    "<p style=\"background-color:#FF69B4;font-family:newtimeroman;color:black;font-size:170%;text-align:center;border-radius:10px 10px;\">📖 LOADING DATA</p>"
   ]
  },
  {
   "cell_type": "code",
   "execution_count": 3,
   "id": "a90848a1",
   "metadata": {
    "execution": {
     "iopub.execute_input": "2023-08-26T15:24:50.793545Z",
     "iopub.status.busy": "2023-08-26T15:24:50.793100Z",
     "iopub.status.idle": "2023-08-26T15:24:50.867476Z",
     "shell.execute_reply": "2023-08-26T15:24:50.866354Z"
    },
    "papermill": {
     "duration": 0.098728,
     "end_time": "2023-08-26T15:24:50.870139",
     "exception": false,
     "start_time": "2023-08-26T15:24:50.771411",
     "status": "completed"
    },
    "tags": []
   },
   "outputs": [
    {
     "data": {
      "text/html": [
       "<div>\n",
       "<style scoped>\n",
       "    .dataframe tbody tr th:only-of-type {\n",
       "        vertical-align: middle;\n",
       "    }\n",
       "\n",
       "    .dataframe tbody tr th {\n",
       "        vertical-align: top;\n",
       "    }\n",
       "\n",
       "    .dataframe thead th {\n",
       "        text-align: right;\n",
       "    }\n",
       "</style>\n",
       "<table border=\"1\" class=\"dataframe\">\n",
       "  <thead>\n",
       "    <tr style=\"text-align: right;\">\n",
       "      <th></th>\n",
       "      <th>satisfaction_level</th>\n",
       "      <th>last_evaluation</th>\n",
       "      <th>number_project</th>\n",
       "      <th>average_montly_hours</th>\n",
       "      <th>time_spend_company</th>\n",
       "      <th>Work_accident</th>\n",
       "      <th>left</th>\n",
       "      <th>promotion_last_5years</th>\n",
       "      <th>sales</th>\n",
       "      <th>salary</th>\n",
       "    </tr>\n",
       "  </thead>\n",
       "  <tbody>\n",
       "    <tr>\n",
       "      <th>0</th>\n",
       "      <td>0.38</td>\n",
       "      <td>0.53</td>\n",
       "      <td>2</td>\n",
       "      <td>157</td>\n",
       "      <td>3</td>\n",
       "      <td>0</td>\n",
       "      <td>1</td>\n",
       "      <td>0</td>\n",
       "      <td>sales</td>\n",
       "      <td>low</td>\n",
       "    </tr>\n",
       "    <tr>\n",
       "      <th>1</th>\n",
       "      <td>0.80</td>\n",
       "      <td>0.86</td>\n",
       "      <td>5</td>\n",
       "      <td>262</td>\n",
       "      <td>6</td>\n",
       "      <td>0</td>\n",
       "      <td>1</td>\n",
       "      <td>0</td>\n",
       "      <td>sales</td>\n",
       "      <td>medium</td>\n",
       "    </tr>\n",
       "    <tr>\n",
       "      <th>2</th>\n",
       "      <td>0.11</td>\n",
       "      <td>0.88</td>\n",
       "      <td>7</td>\n",
       "      <td>272</td>\n",
       "      <td>4</td>\n",
       "      <td>0</td>\n",
       "      <td>1</td>\n",
       "      <td>0</td>\n",
       "      <td>sales</td>\n",
       "      <td>medium</td>\n",
       "    </tr>\n",
       "    <tr>\n",
       "      <th>3</th>\n",
       "      <td>0.72</td>\n",
       "      <td>0.87</td>\n",
       "      <td>5</td>\n",
       "      <td>223</td>\n",
       "      <td>5</td>\n",
       "      <td>0</td>\n",
       "      <td>1</td>\n",
       "      <td>0</td>\n",
       "      <td>sales</td>\n",
       "      <td>low</td>\n",
       "    </tr>\n",
       "    <tr>\n",
       "      <th>4</th>\n",
       "      <td>0.37</td>\n",
       "      <td>0.52</td>\n",
       "      <td>2</td>\n",
       "      <td>159</td>\n",
       "      <td>3</td>\n",
       "      <td>0</td>\n",
       "      <td>1</td>\n",
       "      <td>0</td>\n",
       "      <td>sales</td>\n",
       "      <td>low</td>\n",
       "    </tr>\n",
       "  </tbody>\n",
       "</table>\n",
       "</div>"
      ],
      "text/plain": [
       "   satisfaction_level  last_evaluation  number_project  average_montly_hours  \\\n",
       "0                0.38             0.53               2                   157   \n",
       "1                0.80             0.86               5                   262   \n",
       "2                0.11             0.88               7                   272   \n",
       "3                0.72             0.87               5                   223   \n",
       "4                0.37             0.52               2                   159   \n",
       "\n",
       "   time_spend_company  Work_accident  left  promotion_last_5years  sales  \\\n",
       "0                   3              0     1                      0  sales   \n",
       "1                   6              0     1                      0  sales   \n",
       "2                   4              0     1                      0  sales   \n",
       "3                   5              0     1                      0  sales   \n",
       "4                   3              0     1                      0  sales   \n",
       "\n",
       "   salary  \n",
       "0     low  \n",
       "1  medium  \n",
       "2  medium  \n",
       "3     low  \n",
       "4     low  "
      ]
     },
     "execution_count": 3,
     "metadata": {},
     "output_type": "execute_result"
    }
   ],
   "source": [
    "workers= pd.read_csv('/kaggle/input/employee-worker/HR.csv')\n",
    "workers.head()"
   ]
  },
  {
   "cell_type": "markdown",
   "id": "4ffbd355",
   "metadata": {
    "papermill": {
     "duration": 0.020295,
     "end_time": "2023-08-26T15:24:50.910807",
     "exception": false,
     "start_time": "2023-08-26T15:24:50.890512",
     "status": "completed"
    },
    "tags": []
   },
   "source": [
    "<a id=\"3\"></a>\n",
    "\n",
    "<p style=\"background-color:#FF69B4;font-family:newtimeroman;color:black;font-size:170%;text-align:center;border-radius:10px 10px;\"> Data Overview</p>"
   ]
  },
  {
   "cell_type": "code",
   "execution_count": 4,
   "id": "779d9611",
   "metadata": {
    "execution": {
     "iopub.execute_input": "2023-08-26T15:24:50.956180Z",
     "iopub.status.busy": "2023-08-26T15:24:50.955764Z",
     "iopub.status.idle": "2023-08-26T15:24:51.061568Z",
     "shell.execute_reply": "2023-08-26T15:24:51.060175Z"
    },
    "papermill": {
     "duration": 0.130283,
     "end_time": "2023-08-26T15:24:51.064012",
     "exception": false,
     "start_time": "2023-08-26T15:24:50.933729",
     "status": "completed"
    },
    "tags": []
   },
   "outputs": [
    {
     "data": {
      "text/html": [
       "<div>\n",
       "<style scoped>\n",
       "    .dataframe tbody tr th:only-of-type {\n",
       "        vertical-align: middle;\n",
       "    }\n",
       "\n",
       "    .dataframe tbody tr th {\n",
       "        vertical-align: top;\n",
       "    }\n",
       "\n",
       "    .dataframe thead th {\n",
       "        text-align: right;\n",
       "    }\n",
       "</style>\n",
       "<table border=\"1\" class=\"dataframe\">\n",
       "  <thead>\n",
       "    <tr style=\"text-align: right;\">\n",
       "      <th></th>\n",
       "      <th>0</th>\n",
       "      <th>1</th>\n",
       "      <th>2</th>\n",
       "      <th>3</th>\n",
       "      <th>4</th>\n",
       "      <th>5</th>\n",
       "      <th>6</th>\n",
       "      <th>7</th>\n",
       "      <th>8</th>\n",
       "      <th>9</th>\n",
       "      <th>...</th>\n",
       "      <th>14989</th>\n",
       "      <th>14990</th>\n",
       "      <th>14991</th>\n",
       "      <th>14992</th>\n",
       "      <th>14993</th>\n",
       "      <th>14994</th>\n",
       "      <th>14995</th>\n",
       "      <th>14996</th>\n",
       "      <th>14997</th>\n",
       "      <th>14998</th>\n",
       "    </tr>\n",
       "  </thead>\n",
       "  <tbody>\n",
       "    <tr>\n",
       "      <th>satisfaction_level</th>\n",
       "      <td>0.38</td>\n",
       "      <td>0.8</td>\n",
       "      <td>0.11</td>\n",
       "      <td>0.72</td>\n",
       "      <td>0.37</td>\n",
       "      <td>0.41</td>\n",
       "      <td>0.1</td>\n",
       "      <td>0.92</td>\n",
       "      <td>0.89</td>\n",
       "      <td>0.42</td>\n",
       "      <td>...</td>\n",
       "      <td>0.43</td>\n",
       "      <td>0.89</td>\n",
       "      <td>0.09</td>\n",
       "      <td>0.4</td>\n",
       "      <td>0.76</td>\n",
       "      <td>0.4</td>\n",
       "      <td>0.37</td>\n",
       "      <td>0.37</td>\n",
       "      <td>0.11</td>\n",
       "      <td>0.37</td>\n",
       "    </tr>\n",
       "    <tr>\n",
       "      <th>last_evaluation</th>\n",
       "      <td>0.53</td>\n",
       "      <td>0.86</td>\n",
       "      <td>0.88</td>\n",
       "      <td>0.87</td>\n",
       "      <td>0.52</td>\n",
       "      <td>0.5</td>\n",
       "      <td>0.77</td>\n",
       "      <td>0.85</td>\n",
       "      <td>1.0</td>\n",
       "      <td>0.53</td>\n",
       "      <td>...</td>\n",
       "      <td>0.57</td>\n",
       "      <td>0.88</td>\n",
       "      <td>0.81</td>\n",
       "      <td>0.48</td>\n",
       "      <td>0.83</td>\n",
       "      <td>0.57</td>\n",
       "      <td>0.48</td>\n",
       "      <td>0.53</td>\n",
       "      <td>0.96</td>\n",
       "      <td>0.52</td>\n",
       "    </tr>\n",
       "    <tr>\n",
       "      <th>number_project</th>\n",
       "      <td>2</td>\n",
       "      <td>5</td>\n",
       "      <td>7</td>\n",
       "      <td>5</td>\n",
       "      <td>2</td>\n",
       "      <td>2</td>\n",
       "      <td>6</td>\n",
       "      <td>5</td>\n",
       "      <td>5</td>\n",
       "      <td>2</td>\n",
       "      <td>...</td>\n",
       "      <td>2</td>\n",
       "      <td>5</td>\n",
       "      <td>6</td>\n",
       "      <td>2</td>\n",
       "      <td>6</td>\n",
       "      <td>2</td>\n",
       "      <td>2</td>\n",
       "      <td>2</td>\n",
       "      <td>6</td>\n",
       "      <td>2</td>\n",
       "    </tr>\n",
       "    <tr>\n",
       "      <th>average_montly_hours</th>\n",
       "      <td>157</td>\n",
       "      <td>262</td>\n",
       "      <td>272</td>\n",
       "      <td>223</td>\n",
       "      <td>159</td>\n",
       "      <td>153</td>\n",
       "      <td>247</td>\n",
       "      <td>259</td>\n",
       "      <td>224</td>\n",
       "      <td>142</td>\n",
       "      <td>...</td>\n",
       "      <td>159</td>\n",
       "      <td>228</td>\n",
       "      <td>257</td>\n",
       "      <td>155</td>\n",
       "      <td>293</td>\n",
       "      <td>151</td>\n",
       "      <td>160</td>\n",
       "      <td>143</td>\n",
       "      <td>280</td>\n",
       "      <td>158</td>\n",
       "    </tr>\n",
       "    <tr>\n",
       "      <th>time_spend_company</th>\n",
       "      <td>3</td>\n",
       "      <td>6</td>\n",
       "      <td>4</td>\n",
       "      <td>5</td>\n",
       "      <td>3</td>\n",
       "      <td>3</td>\n",
       "      <td>4</td>\n",
       "      <td>5</td>\n",
       "      <td>5</td>\n",
       "      <td>3</td>\n",
       "      <td>...</td>\n",
       "      <td>3</td>\n",
       "      <td>5</td>\n",
       "      <td>4</td>\n",
       "      <td>3</td>\n",
       "      <td>6</td>\n",
       "      <td>3</td>\n",
       "      <td>3</td>\n",
       "      <td>3</td>\n",
       "      <td>4</td>\n",
       "      <td>3</td>\n",
       "    </tr>\n",
       "    <tr>\n",
       "      <th>Work_accident</th>\n",
       "      <td>0</td>\n",
       "      <td>0</td>\n",
       "      <td>0</td>\n",
       "      <td>0</td>\n",
       "      <td>0</td>\n",
       "      <td>0</td>\n",
       "      <td>0</td>\n",
       "      <td>0</td>\n",
       "      <td>0</td>\n",
       "      <td>0</td>\n",
       "      <td>...</td>\n",
       "      <td>1</td>\n",
       "      <td>1</td>\n",
       "      <td>0</td>\n",
       "      <td>0</td>\n",
       "      <td>0</td>\n",
       "      <td>0</td>\n",
       "      <td>0</td>\n",
       "      <td>0</td>\n",
       "      <td>0</td>\n",
       "      <td>0</td>\n",
       "    </tr>\n",
       "    <tr>\n",
       "      <th>left</th>\n",
       "      <td>1</td>\n",
       "      <td>1</td>\n",
       "      <td>1</td>\n",
       "      <td>1</td>\n",
       "      <td>1</td>\n",
       "      <td>1</td>\n",
       "      <td>1</td>\n",
       "      <td>1</td>\n",
       "      <td>1</td>\n",
       "      <td>1</td>\n",
       "      <td>...</td>\n",
       "      <td>1</td>\n",
       "      <td>1</td>\n",
       "      <td>1</td>\n",
       "      <td>1</td>\n",
       "      <td>1</td>\n",
       "      <td>1</td>\n",
       "      <td>1</td>\n",
       "      <td>1</td>\n",
       "      <td>1</td>\n",
       "      <td>1</td>\n",
       "    </tr>\n",
       "    <tr>\n",
       "      <th>promotion_last_5years</th>\n",
       "      <td>0</td>\n",
       "      <td>0</td>\n",
       "      <td>0</td>\n",
       "      <td>0</td>\n",
       "      <td>0</td>\n",
       "      <td>0</td>\n",
       "      <td>0</td>\n",
       "      <td>0</td>\n",
       "      <td>0</td>\n",
       "      <td>0</td>\n",
       "      <td>...</td>\n",
       "      <td>0</td>\n",
       "      <td>0</td>\n",
       "      <td>0</td>\n",
       "      <td>0</td>\n",
       "      <td>0</td>\n",
       "      <td>0</td>\n",
       "      <td>0</td>\n",
       "      <td>0</td>\n",
       "      <td>0</td>\n",
       "      <td>0</td>\n",
       "    </tr>\n",
       "    <tr>\n",
       "      <th>sales</th>\n",
       "      <td>sales</td>\n",
       "      <td>sales</td>\n",
       "      <td>sales</td>\n",
       "      <td>sales</td>\n",
       "      <td>sales</td>\n",
       "      <td>sales</td>\n",
       "      <td>sales</td>\n",
       "      <td>sales</td>\n",
       "      <td>sales</td>\n",
       "      <td>sales</td>\n",
       "      <td>...</td>\n",
       "      <td>technical</td>\n",
       "      <td>support</td>\n",
       "      <td>support</td>\n",
       "      <td>support</td>\n",
       "      <td>support</td>\n",
       "      <td>support</td>\n",
       "      <td>support</td>\n",
       "      <td>support</td>\n",
       "      <td>support</td>\n",
       "      <td>support</td>\n",
       "    </tr>\n",
       "    <tr>\n",
       "      <th>salary</th>\n",
       "      <td>low</td>\n",
       "      <td>medium</td>\n",
       "      <td>medium</td>\n",
       "      <td>low</td>\n",
       "      <td>low</td>\n",
       "      <td>low</td>\n",
       "      <td>low</td>\n",
       "      <td>low</td>\n",
       "      <td>low</td>\n",
       "      <td>low</td>\n",
       "      <td>...</td>\n",
       "      <td>low</td>\n",
       "      <td>low</td>\n",
       "      <td>low</td>\n",
       "      <td>low</td>\n",
       "      <td>low</td>\n",
       "      <td>low</td>\n",
       "      <td>low</td>\n",
       "      <td>low</td>\n",
       "      <td>low</td>\n",
       "      <td>low</td>\n",
       "    </tr>\n",
       "  </tbody>\n",
       "</table>\n",
       "<p>10 rows × 14999 columns</p>\n",
       "</div>"
      ],
      "text/plain": [
       "                       0       1       2      3      4      5      6      \\\n",
       "satisfaction_level      0.38     0.8    0.11   0.72   0.37   0.41    0.1   \n",
       "last_evaluation         0.53    0.86    0.88   0.87   0.52    0.5   0.77   \n",
       "number_project             2       5       7      5      2      2      6   \n",
       "average_montly_hours     157     262     272    223    159    153    247   \n",
       "time_spend_company         3       6       4      5      3      3      4   \n",
       "Work_accident              0       0       0      0      0      0      0   \n",
       "left                       1       1       1      1      1      1      1   \n",
       "promotion_last_5years      0       0       0      0      0      0      0   \n",
       "sales                  sales   sales   sales  sales  sales  sales  sales   \n",
       "salary                   low  medium  medium    low    low    low    low   \n",
       "\n",
       "                       7      8      9      ...      14989    14990    14991  \\\n",
       "satisfaction_level      0.92   0.89   0.42  ...       0.43     0.89     0.09   \n",
       "last_evaluation         0.85    1.0   0.53  ...       0.57     0.88     0.81   \n",
       "number_project             5      5      2  ...          2        5        6   \n",
       "average_montly_hours     259    224    142  ...        159      228      257   \n",
       "time_spend_company         5      5      3  ...          3        5        4   \n",
       "Work_accident              0      0      0  ...          1        1        0   \n",
       "left                       1      1      1  ...          1        1        1   \n",
       "promotion_last_5years      0      0      0  ...          0        0        0   \n",
       "sales                  sales  sales  sales  ...  technical  support  support   \n",
       "salary                   low    low    low  ...        low      low      low   \n",
       "\n",
       "                         14992    14993    14994    14995    14996    14997  \\\n",
       "satisfaction_level         0.4     0.76      0.4     0.37     0.37     0.11   \n",
       "last_evaluation           0.48     0.83     0.57     0.48     0.53     0.96   \n",
       "number_project               2        6        2        2        2        6   \n",
       "average_montly_hours       155      293      151      160      143      280   \n",
       "time_spend_company           3        6        3        3        3        4   \n",
       "Work_accident                0        0        0        0        0        0   \n",
       "left                         1        1        1        1        1        1   \n",
       "promotion_last_5years        0        0        0        0        0        0   \n",
       "sales                  support  support  support  support  support  support   \n",
       "salary                     low      low      low      low      low      low   \n",
       "\n",
       "                         14998  \n",
       "satisfaction_level        0.37  \n",
       "last_evaluation           0.52  \n",
       "number_project               2  \n",
       "average_montly_hours       158  \n",
       "time_spend_company           3  \n",
       "Work_accident                0  \n",
       "left                         1  \n",
       "promotion_last_5years        0  \n",
       "sales                  support  \n",
       "salary                     low  \n",
       "\n",
       "[10 rows x 14999 columns]"
      ]
     },
     "execution_count": 4,
     "metadata": {},
     "output_type": "execute_result"
    }
   ],
   "source": [
    "workers.T"
   ]
  },
  {
   "cell_type": "code",
   "execution_count": 5,
   "id": "0e56907b",
   "metadata": {
    "execution": {
     "iopub.execute_input": "2023-08-26T15:24:51.108742Z",
     "iopub.status.busy": "2023-08-26T15:24:51.108280Z",
     "iopub.status.idle": "2023-08-26T15:24:51.143936Z",
     "shell.execute_reply": "2023-08-26T15:24:51.142060Z"
    },
    "papermill": {
     "duration": 0.061838,
     "end_time": "2023-08-26T15:24:51.146972",
     "exception": false,
     "start_time": "2023-08-26T15:24:51.085134",
     "status": "completed"
    },
    "tags": []
   },
   "outputs": [
    {
     "name": "stdout",
     "output_type": "stream",
     "text": [
      "<class 'pandas.core.frame.DataFrame'>\n",
      "RangeIndex: 14999 entries, 0 to 14998\n",
      "Data columns (total 10 columns):\n",
      " #   Column                 Non-Null Count  Dtype  \n",
      "---  ------                 --------------  -----  \n",
      " 0   satisfaction_level     14999 non-null  float64\n",
      " 1   last_evaluation        14999 non-null  float64\n",
      " 2   number_project         14999 non-null  int64  \n",
      " 3   average_montly_hours   14999 non-null  int64  \n",
      " 4   time_spend_company     14999 non-null  int64  \n",
      " 5   Work_accident          14999 non-null  int64  \n",
      " 6   left                   14999 non-null  int64  \n",
      " 7   promotion_last_5years  14999 non-null  int64  \n",
      " 8   sales                  14999 non-null  object \n",
      " 9   salary                 14999 non-null  object \n",
      "dtypes: float64(2), int64(6), object(2)\n",
      "memory usage: 1.1+ MB\n"
     ]
    }
   ],
   "source": [
    "workers.info()"
   ]
  },
  {
   "cell_type": "code",
   "execution_count": 6,
   "id": "25e3c181",
   "metadata": {
    "execution": {
     "iopub.execute_input": "2023-08-26T15:24:51.191082Z",
     "iopub.status.busy": "2023-08-26T15:24:51.190652Z",
     "iopub.status.idle": "2023-08-26T15:24:51.206235Z",
     "shell.execute_reply": "2023-08-26T15:24:51.205109Z"
    },
    "papermill": {
     "duration": 0.040595,
     "end_time": "2023-08-26T15:24:51.208617",
     "exception": false,
     "start_time": "2023-08-26T15:24:51.168022",
     "status": "completed"
    },
    "tags": []
   },
   "outputs": [
    {
     "data": {
      "text/plain": [
       "satisfaction_level        92\n",
       "last_evaluation           65\n",
       "number_project             6\n",
       "average_montly_hours     215\n",
       "time_spend_company         8\n",
       "Work_accident              2\n",
       "left                       2\n",
       "promotion_last_5years      2\n",
       "sales                     10\n",
       "salary                     3\n",
       "dtype: int64"
      ]
     },
     "execution_count": 6,
     "metadata": {},
     "output_type": "execute_result"
    }
   ],
   "source": [
    "workers.nunique()"
   ]
  },
  {
   "cell_type": "code",
   "execution_count": 7,
   "id": "ff6f56fe",
   "metadata": {
    "execution": {
     "iopub.execute_input": "2023-08-26T15:24:51.252791Z",
     "iopub.status.busy": "2023-08-26T15:24:51.252389Z",
     "iopub.status.idle": "2023-08-26T15:24:51.259449Z",
     "shell.execute_reply": "2023-08-26T15:24:51.258481Z"
    },
    "papermill": {
     "duration": 0.032597,
     "end_time": "2023-08-26T15:24:51.262214",
     "exception": false,
     "start_time": "2023-08-26T15:24:51.229617",
     "status": "completed"
    },
    "tags": []
   },
   "outputs": [
    {
     "data": {
      "text/plain": [
       "(14999, 10)"
      ]
     },
     "execution_count": 7,
     "metadata": {},
     "output_type": "execute_result"
    }
   ],
   "source": [
    "workers.shape"
   ]
  },
  {
   "cell_type": "code",
   "execution_count": 8,
   "id": "0eebc3e5",
   "metadata": {
    "execution": {
     "iopub.execute_input": "2023-08-26T15:24:51.308771Z",
     "iopub.status.busy": "2023-08-26T15:24:51.308264Z",
     "iopub.status.idle": "2023-08-26T15:24:51.329945Z",
     "shell.execute_reply": "2023-08-26T15:24:51.328536Z"
    },
    "papermill": {
     "duration": 0.048495,
     "end_time": "2023-08-26T15:24:51.332591",
     "exception": false,
     "start_time": "2023-08-26T15:24:51.284096",
     "status": "completed"
    },
    "tags": []
   },
   "outputs": [
    {
     "data": {
      "text/plain": [
       "satisfaction_level       False\n",
       "last_evaluation          False\n",
       "number_project           False\n",
       "average_montly_hours     False\n",
       "time_spend_company       False\n",
       "Work_accident            False\n",
       "left                     False\n",
       "promotion_last_5years    False\n",
       "sales                    False\n",
       "salary                   False\n",
       "dtype: bool"
      ]
     },
     "execution_count": 8,
     "metadata": {},
     "output_type": "execute_result"
    }
   ],
   "source": [
    "workers.isnull().any()"
   ]
  },
  {
   "cell_type": "code",
   "execution_count": 9,
   "id": "556a24d9",
   "metadata": {
    "execution": {
     "iopub.execute_input": "2023-08-26T15:24:51.376602Z",
     "iopub.status.busy": "2023-08-26T15:24:51.376178Z",
     "iopub.status.idle": "2023-08-26T15:24:51.397934Z",
     "shell.execute_reply": "2023-08-26T15:24:51.396571Z"
    },
    "papermill": {
     "duration": 0.046924,
     "end_time": "2023-08-26T15:24:51.400818",
     "exception": false,
     "start_time": "2023-08-26T15:24:51.353894",
     "status": "completed"
    },
    "tags": []
   },
   "outputs": [
    {
     "data": {
      "text/plain": [
       "satisfaction_level       0\n",
       "last_evaluation          0\n",
       "number_project           0\n",
       "average_montly_hours     0\n",
       "time_spend_company       0\n",
       "Work_accident            0\n",
       "left                     0\n",
       "promotion_last_5years    0\n",
       "sales                    0\n",
       "salary                   0\n",
       "dtype: int64"
      ]
     },
     "execution_count": 9,
     "metadata": {},
     "output_type": "execute_result"
    }
   ],
   "source": [
    "workers.isnull().sum()"
   ]
  },
  {
   "cell_type": "code",
   "execution_count": 10,
   "id": "70f2b48f",
   "metadata": {
    "execution": {
     "iopub.execute_input": "2023-08-26T15:24:51.446743Z",
     "iopub.status.busy": "2023-08-26T15:24:51.446073Z",
     "iopub.status.idle": "2023-08-26T15:24:51.453493Z",
     "shell.execute_reply": "2023-08-26T15:24:51.452129Z"
    },
    "papermill": {
     "duration": 0.033677,
     "end_time": "2023-08-26T15:24:51.456323",
     "exception": false,
     "start_time": "2023-08-26T15:24:51.422646",
     "status": "completed"
    },
    "tags": []
   },
   "outputs": [],
   "source": [
    "def find_cols_with_nulls(workers):\n",
    "    cols_with_null = []\n",
    "    for col in workers.columns:\n",
    "        if workers[col].isnull().any() | workers[col].isna().any():\n",
    "            cols_with_null.append(col)\n",
    "    return cols_with_null"
   ]
  },
  {
   "cell_type": "code",
   "execution_count": 11,
   "id": "c2387d1e",
   "metadata": {
    "execution": {
     "iopub.execute_input": "2023-08-26T15:24:51.503201Z",
     "iopub.status.busy": "2023-08-26T15:24:51.502811Z",
     "iopub.status.idle": "2023-08-26T15:24:51.521889Z",
     "shell.execute_reply": "2023-08-26T15:24:51.520544Z"
    },
    "papermill": {
     "duration": 0.045915,
     "end_time": "2023-08-26T15:24:51.524706",
     "exception": false,
     "start_time": "2023-08-26T15:24:51.478791",
     "status": "completed"
    },
    "tags": []
   },
   "outputs": [
    {
     "name": "stdout",
     "output_type": "stream",
     "text": [
      "----- There is no missing values. -----\n"
     ]
    }
   ],
   "source": [
    "miss_cols = find_cols_with_nulls(workers)\n",
    "if miss_cols == []:\n",
    "    print('----- There is no missing values. -----')\n",
    "else:    \n",
    "    print(f'Columns that have NULL data are:')\n",
    "    for col in miss_cols:\n",
    "        print(f'{col:8}: {workers[col].isnull().sum():6} missing values')"
   ]
  },
  {
   "cell_type": "markdown",
   "id": "48e1f6ef",
   "metadata": {
    "papermill": {
     "duration": 0.022017,
     "end_time": "2023-08-26T15:24:51.568968",
     "exception": false,
     "start_time": "2023-08-26T15:24:51.546951",
     "status": "completed"
    },
    "tags": []
   },
   "source": [
    "<div class=\"alert alert-block alert-info ;\"> 📌  We do not have any null or missing data  </div>"
   ]
  },
  {
   "cell_type": "code",
   "execution_count": 12,
   "id": "7f6afd7f",
   "metadata": {
    "execution": {
     "iopub.execute_input": "2023-08-26T15:24:51.614561Z",
     "iopub.status.busy": "2023-08-26T15:24:51.614079Z",
     "iopub.status.idle": "2023-08-26T15:24:51.664731Z",
     "shell.execute_reply": "2023-08-26T15:24:51.663796Z"
    },
    "papermill": {
     "duration": 0.076323,
     "end_time": "2023-08-26T15:24:51.666939",
     "exception": false,
     "start_time": "2023-08-26T15:24:51.590616",
     "status": "completed"
    },
    "tags": []
   },
   "outputs": [
    {
     "data": {
      "text/html": [
       "<div>\n",
       "<style scoped>\n",
       "    .dataframe tbody tr th:only-of-type {\n",
       "        vertical-align: middle;\n",
       "    }\n",
       "\n",
       "    .dataframe tbody tr th {\n",
       "        vertical-align: top;\n",
       "    }\n",
       "\n",
       "    .dataframe thead th {\n",
       "        text-align: right;\n",
       "    }\n",
       "</style>\n",
       "<table border=\"1\" class=\"dataframe\">\n",
       "  <thead>\n",
       "    <tr style=\"text-align: right;\">\n",
       "      <th></th>\n",
       "      <th>count</th>\n",
       "      <th>mean</th>\n",
       "      <th>std</th>\n",
       "      <th>min</th>\n",
       "      <th>25%</th>\n",
       "      <th>50%</th>\n",
       "      <th>75%</th>\n",
       "      <th>max</th>\n",
       "    </tr>\n",
       "  </thead>\n",
       "  <tbody>\n",
       "    <tr>\n",
       "      <th>satisfaction_level</th>\n",
       "      <td>14999.0</td>\n",
       "      <td>0.612834</td>\n",
       "      <td>0.248631</td>\n",
       "      <td>0.09</td>\n",
       "      <td>0.44</td>\n",
       "      <td>0.64</td>\n",
       "      <td>0.82</td>\n",
       "      <td>1.0</td>\n",
       "    </tr>\n",
       "    <tr>\n",
       "      <th>last_evaluation</th>\n",
       "      <td>14999.0</td>\n",
       "      <td>0.716102</td>\n",
       "      <td>0.171169</td>\n",
       "      <td>0.36</td>\n",
       "      <td>0.56</td>\n",
       "      <td>0.72</td>\n",
       "      <td>0.87</td>\n",
       "      <td>1.0</td>\n",
       "    </tr>\n",
       "    <tr>\n",
       "      <th>number_project</th>\n",
       "      <td>14999.0</td>\n",
       "      <td>3.803054</td>\n",
       "      <td>1.232592</td>\n",
       "      <td>2.00</td>\n",
       "      <td>3.00</td>\n",
       "      <td>4.00</td>\n",
       "      <td>5.00</td>\n",
       "      <td>7.0</td>\n",
       "    </tr>\n",
       "    <tr>\n",
       "      <th>average_montly_hours</th>\n",
       "      <td>14999.0</td>\n",
       "      <td>201.050337</td>\n",
       "      <td>49.943099</td>\n",
       "      <td>96.00</td>\n",
       "      <td>156.00</td>\n",
       "      <td>200.00</td>\n",
       "      <td>245.00</td>\n",
       "      <td>310.0</td>\n",
       "    </tr>\n",
       "    <tr>\n",
       "      <th>time_spend_company</th>\n",
       "      <td>14999.0</td>\n",
       "      <td>3.498233</td>\n",
       "      <td>1.460136</td>\n",
       "      <td>2.00</td>\n",
       "      <td>3.00</td>\n",
       "      <td>3.00</td>\n",
       "      <td>4.00</td>\n",
       "      <td>10.0</td>\n",
       "    </tr>\n",
       "    <tr>\n",
       "      <th>Work_accident</th>\n",
       "      <td>14999.0</td>\n",
       "      <td>0.144610</td>\n",
       "      <td>0.351719</td>\n",
       "      <td>0.00</td>\n",
       "      <td>0.00</td>\n",
       "      <td>0.00</td>\n",
       "      <td>0.00</td>\n",
       "      <td>1.0</td>\n",
       "    </tr>\n",
       "    <tr>\n",
       "      <th>left</th>\n",
       "      <td>14999.0</td>\n",
       "      <td>0.238083</td>\n",
       "      <td>0.425924</td>\n",
       "      <td>0.00</td>\n",
       "      <td>0.00</td>\n",
       "      <td>0.00</td>\n",
       "      <td>0.00</td>\n",
       "      <td>1.0</td>\n",
       "    </tr>\n",
       "    <tr>\n",
       "      <th>promotion_last_5years</th>\n",
       "      <td>14999.0</td>\n",
       "      <td>0.021268</td>\n",
       "      <td>0.144281</td>\n",
       "      <td>0.00</td>\n",
       "      <td>0.00</td>\n",
       "      <td>0.00</td>\n",
       "      <td>0.00</td>\n",
       "      <td>1.0</td>\n",
       "    </tr>\n",
       "  </tbody>\n",
       "</table>\n",
       "</div>"
      ],
      "text/plain": [
       "                         count        mean        std    min     25%     50%  \\\n",
       "satisfaction_level     14999.0    0.612834   0.248631   0.09    0.44    0.64   \n",
       "last_evaluation        14999.0    0.716102   0.171169   0.36    0.56    0.72   \n",
       "number_project         14999.0    3.803054   1.232592   2.00    3.00    4.00   \n",
       "average_montly_hours   14999.0  201.050337  49.943099  96.00  156.00  200.00   \n",
       "time_spend_company     14999.0    3.498233   1.460136   2.00    3.00    3.00   \n",
       "Work_accident          14999.0    0.144610   0.351719   0.00    0.00    0.00   \n",
       "left                   14999.0    0.238083   0.425924   0.00    0.00    0.00   \n",
       "promotion_last_5years  14999.0    0.021268   0.144281   0.00    0.00    0.00   \n",
       "\n",
       "                          75%    max  \n",
       "satisfaction_level       0.82    1.0  \n",
       "last_evaluation          0.87    1.0  \n",
       "number_project           5.00    7.0  \n",
       "average_montly_hours   245.00  310.0  \n",
       "time_spend_company       4.00   10.0  \n",
       "Work_accident            0.00    1.0  \n",
       "left                     0.00    1.0  \n",
       "promotion_last_5years    0.00    1.0  "
      ]
     },
     "execution_count": 12,
     "metadata": {},
     "output_type": "execute_result"
    }
   ],
   "source": [
    "workers.describe().T"
   ]
  },
  {
   "cell_type": "markdown",
   "id": "da49bbed",
   "metadata": {
    "papermill": {
     "duration": 0.022088,
     "end_time": "2023-08-26T15:24:51.711903",
     "exception": false,
     "start_time": "2023-08-26T15:24:51.689815",
     "status": "completed"
    },
    "tags": []
   },
   "source": [
    "\n",
    "<a id=\"4\"></a>\n",
    "# <p style=\"background-color:#FF69B4;font-family:newtimeroman;color:black;font-size:170%;text-align:center;border-radius:10px 10px;\">📊 EDA</p>\n",
    "​"
   ]
  },
  {
   "cell_type": "code",
   "execution_count": 13,
   "id": "02562c82",
   "metadata": {
    "execution": {
     "iopub.execute_input": "2023-08-26T15:24:51.759489Z",
     "iopub.status.busy": "2023-08-26T15:24:51.759053Z",
     "iopub.status.idle": "2023-08-26T15:24:51.994217Z",
     "shell.execute_reply": "2023-08-26T15:24:51.992680Z"
    },
    "papermill": {
     "duration": 0.264955,
     "end_time": "2023-08-26T15:24:51.999207",
     "exception": false,
     "start_time": "2023-08-26T15:24:51.734252",
     "status": "completed"
    },
    "tags": []
   },
   "outputs": [
    {
     "data": {
      "text/plain": [
       "<Axes: ylabel='left'>"
      ]
     },
     "execution_count": 13,
     "metadata": {},
     "output_type": "execute_result"
    },
    {
     "data": {
      "image/png": "[encoded data removed]",
      "text/plain": [
       "<Figure size 640x480 with 1 Axes>"
      ]
     },
     "metadata": {},
     "output_type": "display_data"
    }
   ],
   "source": [
    "workers['left'].value_counts().plot(kind='pie')"
   ]
  },
  {
   "cell_type": "code",
   "execution_count": 14,
   "id": "bf1b92e6",
   "metadata": {
    "execution": {
     "iopub.execute_input": "2023-08-26T15:24:52.073422Z",
     "iopub.status.busy": "2023-08-26T15:24:52.072992Z",
     "iopub.status.idle": "2023-08-26T15:24:52.352504Z",
     "shell.execute_reply": "2023-08-26T15:24:52.351064Z"
    },
    "papermill": {
     "duration": 0.307185,
     "end_time": "2023-08-26T15:24:52.355772",
     "exception": false,
     "start_time": "2023-08-26T15:24:52.048587",
     "status": "completed"
    },
    "tags": []
   },
   "outputs": [
    {
     "data": {
      "text/plain": [
       "<Axes: xlabel='left', ylabel='count'>"
      ]
     },
     "execution_count": 14,
     "metadata": {},
     "output_type": "execute_result"
    },
    {
     "data": {
      "image/png": "[encoded data removed]",
      "text/plain": [
       "<Figure size 640x480 with 1 Axes>"
      ]
     },
     "metadata": {},
     "output_type": "display_data"
    }
   ],
   "source": [
    "sns.countplot(data = workers , x='left' , palette=palette)"
   ]
  },
  {
   "cell_type": "code",
   "execution_count": 15,
   "id": "52ed6ff2",
   "metadata": {
    "execution": {
     "iopub.execute_input": "2023-08-26T15:24:52.406450Z",
     "iopub.status.busy": "2023-08-26T15:24:52.406022Z",
     "iopub.status.idle": "2023-08-26T15:24:53.121236Z",
     "shell.execute_reply": "2023-08-26T15:24:53.119955Z"
    },
    "papermill": {
     "duration": 0.744259,
     "end_time": "2023-08-26T15:24:53.123998",
     "exception": false,
     "start_time": "2023-08-26T15:24:52.379739",
     "status": "completed"
    },
    "tags": []
   },
   "outputs": [
    {
     "data": {
      "image/png": "[encoded data removed]",
      "text/plain": [
       "<Figure size 1000x600 with 1 Axes>"
      ]
     },
     "metadata": {},
     "output_type": "display_data"
    }
   ],
   "source": [
    "plt.figure(figsize=(10, 6))\n",
    "sns.histplot(workers['salary'], bins=200, kde=True)\n",
    "plt.title('Distribution of salary')\n",
    "plt.xlabel('salary')\n",
    "plt.ylabel('Frequency')\n",
    "plt.show()"
   ]
  },
  {
   "cell_type": "code",
   "execution_count": 16,
   "id": "de915e92",
   "metadata": {
    "execution": {
     "iopub.execute_input": "2023-08-26T15:24:53.172798Z",
     "iopub.status.busy": "2023-08-26T15:24:53.172419Z",
     "iopub.status.idle": "2023-08-26T15:24:53.772068Z",
     "shell.execute_reply": "2023-08-26T15:24:53.770687Z"
    },
    "papermill": {
     "duration": 0.627692,
     "end_time": "2023-08-26T15:24:53.775239",
     "exception": false,
     "start_time": "2023-08-26T15:24:53.147547",
     "status": "completed"
    },
    "tags": []
   },
   "outputs": [
    {
     "data": {
      "image/png": "[encoded data removed]",
      "text/plain": [
       "<Figure size 1000x600 with 1 Axes>"
      ]
     },
     "metadata": {},
     "output_type": "display_data"
    }
   ],
   "source": [
    "plt.figure(figsize=(10, 6))\n",
    "sns.histplot(workers['satisfaction_level'], bins=15, kde=True)\n",
    "plt.title('Distribution of satisfaction_level')\n",
    "plt.xlabel('satisfaction_level')\n",
    "plt.ylabel('Frequency')\n",
    "plt.show()"
   ]
  },
  {
   "cell_type": "code",
   "execution_count": 17,
   "id": "cecb1583",
   "metadata": {
    "execution": {
     "iopub.execute_input": "2023-08-26T15:24:53.828991Z",
     "iopub.status.busy": "2023-08-26T15:24:53.828569Z",
     "iopub.status.idle": "2023-08-26T15:24:54.465667Z",
     "shell.execute_reply": "2023-08-26T15:24:54.464465Z"
    },
    "papermill": {
     "duration": 0.667333,
     "end_time": "2023-08-26T15:24:54.468510",
     "exception": false,
     "start_time": "2023-08-26T15:24:53.801177",
     "status": "completed"
    },
    "tags": []
   },
   "outputs": [
    {
     "data": {
      "image/png": "[encoded data removed]",
      "text/plain": [
       "<Figure size 1000x600 with 1 Axes>"
      ]
     },
     "metadata": {},
     "output_type": "display_data"
    }
   ],
   "source": [
    "plt.figure(figsize=(10, 6))\n",
    "sns.histplot(workers['last_evaluation'], bins=15, kde=True)\n",
    "plt.title('Distribution of last_evaluation')\n",
    "plt.xlabel('last_evaluation')\n",
    "plt.ylabel('Frequency')\n",
    "plt.show()"
   ]
  },
  {
   "cell_type": "code",
   "execution_count": 18,
   "id": "941e0b12",
   "metadata": {
    "execution": {
     "iopub.execute_input": "2023-08-26T15:24:54.521246Z",
     "iopub.status.busy": "2023-08-26T15:24:54.520595Z",
     "iopub.status.idle": "2023-08-26T15:24:54.883891Z",
     "shell.execute_reply": "2023-08-26T15:24:54.882519Z"
    },
    "papermill": {
     "duration": 0.392618,
     "end_time": "2023-08-26T15:24:54.886398",
     "exception": false,
     "start_time": "2023-08-26T15:24:54.493780",
     "status": "completed"
    },
    "tags": []
   },
   "outputs": [
    {
     "data": {
      "image/png": "[encoded data removed]",
      "text/plain": [
       "<Figure size 800x600 with 1 Axes>"
      ]
     },
     "metadata": {},
     "output_type": "display_data"
    }
   ],
   "source": [
    "plt.figure(figsize=(8, 6))\n",
    "sns.countplot(data=workers, x='salary', hue='left' , palette=palette)\n",
    "plt.title('Distribution of Salary')\n",
    "plt.xlabel('Salary')\n",
    "plt.ylabel('Count')\n",
    "plt.legend(title='left', labels=['not left', 'left'])\n",
    "plt.show()"
   ]
  },
  {
   "cell_type": "code",
   "execution_count": 19,
   "id": "cc6a8652",
   "metadata": {
    "execution": {
     "iopub.execute_input": "2023-08-26T15:24:54.939399Z",
     "iopub.status.busy": "2023-08-26T15:24:54.938986Z",
     "iopub.status.idle": "2023-08-26T15:24:55.258944Z",
     "shell.execute_reply": "2023-08-26T15:24:55.257569Z"
    },
    "papermill": {
     "duration": 0.350127,
     "end_time": "2023-08-26T15:24:55.261818",
     "exception": false,
     "start_time": "2023-08-26T15:24:54.911691",
     "status": "completed"
    },
    "tags": []
   },
   "outputs": [
    {
     "data": {
      "image/png": "[encoded data removed]",
      "text/plain": [
       "<Figure size 800x600 with 1 Axes>"
      ]
     },
     "metadata": {},
     "output_type": "display_data"
    }
   ],
   "source": [
    "plt.figure(figsize=(8, 6))\n",
    "sns.countplot(data=workers, x='Work_accident', hue='left' , palette=palette)\n",
    "plt.title('Distribution of Work_accident')\n",
    "plt.xlabel('Work_accident(0 = non-work accident , 1 = Work_accident)')\n",
    "plt.ylabel('Count')\n",
    "plt.legend(title='left', labels=['not left', 'left'])\n",
    "plt.show()"
   ]
  },
  {
   "cell_type": "code",
   "execution_count": 20,
   "id": "4ec91913",
   "metadata": {
    "execution": {
     "iopub.execute_input": "2023-08-26T15:24:55.318607Z",
     "iopub.status.busy": "2023-08-26T15:24:55.318206Z",
     "iopub.status.idle": "2023-08-26T15:24:55.333607Z",
     "shell.execute_reply": "2023-08-26T15:24:55.332364Z"
    },
    "papermill": {
     "duration": 0.047142,
     "end_time": "2023-08-26T15:24:55.336267",
     "exception": false,
     "start_time": "2023-08-26T15:24:55.289125",
     "status": "completed"
    },
    "tags": []
   },
   "outputs": [
    {
     "data": {
      "text/plain": [
       "left                     1.000000\n",
       "time_spend_company       0.144822\n",
       "average_montly_hours     0.071287\n",
       "number_project           0.023787\n",
       "last_evaluation          0.006567\n",
       "promotion_last_5years   -0.061788\n",
       "Work_accident           -0.154622\n",
       "satisfaction_level      -0.388375\n",
       "Name: left, dtype: float64"
      ]
     },
     "execution_count": 20,
     "metadata": {},
     "output_type": "execute_result"
    }
   ],
   "source": [
    "workers.corr()[\"left\"].sort_values(ascending=False)\n"
   ]
  },
  {
   "cell_type": "code",
   "execution_count": 21,
   "id": "fdf10ce6",
   "metadata": {
    "execution": {
     "iopub.execute_input": "2023-08-26T15:24:55.394164Z",
     "iopub.status.busy": "2023-08-26T15:24:55.393669Z",
     "iopub.status.idle": "2023-08-26T15:24:55.911373Z",
     "shell.execute_reply": "2023-08-26T15:24:55.910153Z"
    },
    "papermill": {
     "duration": 0.550309,
     "end_time": "2023-08-26T15:24:55.914027",
     "exception": false,
     "start_time": "2023-08-26T15:24:55.363718",
     "status": "completed"
    },
    "tags": []
   },
   "outputs": [
    {
     "data": {
      "image/png": "[encoded data removed]",
      "text/plain": [
       "<Figure size 500x600 with 2 Axes>"
      ]
     },
     "metadata": {},
     "output_type": "display_data"
    }
   ],
   "source": [
    "plt.figure(figsize=(5, 6))\n",
    "heatmap = sns.heatmap(workers.corr()[[\"left\"]].sort_values(by=\"left\", ascending=False),\n",
    "                      annot=True, cmap='coolwarm', fmt=\".2f\"\n",
    ")\n",
    "heatmap.set_title('Features Correlating with Sales Price', fontdict={'fontsize':18}, pad=16);"
   ]
  },
  {
   "cell_type": "code",
   "execution_count": 22,
   "id": "648b5440",
   "metadata": {
    "execution": {
     "iopub.execute_input": "2023-08-26T15:24:55.974039Z",
     "iopub.status.busy": "2023-08-26T15:24:55.973565Z",
     "iopub.status.idle": "2023-08-26T15:24:56.782530Z",
     "shell.execute_reply": "2023-08-26T15:24:56.781355Z"
    },
    "papermill": {
     "duration": 0.843312,
     "end_time": "2023-08-26T15:24:56.785188",
     "exception": false,
     "start_time": "2023-08-26T15:24:55.941876",
     "status": "completed"
    },
    "tags": []
   },
   "outputs": [
    {
     "data": {
      "image/png": "[encoded data removed]",
      "text/plain": [
       "<Figure size 1400x1200 with 2 Axes>"
      ]
     },
     "metadata": {},
     "output_type": "display_data"
    }
   ],
   "source": [
    "corr_matrix=workers.corr()\n",
    "plt.figure(figsize=(14, 12))\n",
    "sns.heatmap(corr_matrix, annot=True, cmap='plasma')\n",
    "plt.title(f'Correlation matrix')\n",
    "plt.show()"
   ]
  },
  {
   "cell_type": "code",
   "execution_count": 23,
   "id": "1a981152",
   "metadata": {
    "execution": {
     "iopub.execute_input": "2023-08-26T15:24:56.849196Z",
     "iopub.status.busy": "2023-08-26T15:24:56.848317Z",
     "iopub.status.idle": "2023-08-26T15:24:56.856635Z",
     "shell.execute_reply": "2023-08-26T15:24:56.855158Z"
    },
    "papermill": {
     "duration": 0.045077,
     "end_time": "2023-08-26T15:24:56.860469",
     "exception": false,
     "start_time": "2023-08-26T15:24:56.815392",
     "status": "completed"
    },
    "tags": []
   },
   "outputs": [
    {
     "data": {
      "text/plain": [
       "ShapiroResult(statistic=0.5280793309211731, pvalue=0.0)"
      ]
     },
     "execution_count": 23,
     "metadata": {},
     "output_type": "execute_result"
    }
   ],
   "source": [
    "from scipy.stats import shapiro\n",
    "shapiro(workers['left'])"
   ]
  },
  {
   "cell_type": "markdown",
   "id": "c84f799f",
   "metadata": {
    "papermill": {
     "duration": 0.029801,
     "end_time": "2023-08-26T15:24:56.920560",
     "exception": false,
     "start_time": "2023-08-26T15:24:56.890759",
     "status": "completed"
    },
    "tags": []
   },
   "source": [
    "<a id=\"4\"></a>\n",
    "# <p style=\"background-color:#FF69B4;font-family:newtimeroman;color:black;font-size:170%;text-align:center;border-radius:10px 10px;\">Preprocessing </p>"
   ]
  },
  {
   "cell_type": "markdown",
   "id": "27c8efea",
   "metadata": {
    "papermill": {
     "duration": 0.030786,
     "end_time": "2023-08-26T15:24:56.981896",
     "exception": false,
     "start_time": "2023-08-26T15:24:56.951110",
     "status": "completed"
    },
    "tags": []
   },
   "source": [
    "# Outliers"
   ]
  },
  {
   "cell_type": "code",
   "execution_count": 24,
   "id": "69fd32bd",
   "metadata": {
    "execution": {
     "iopub.execute_input": "2023-08-26T15:24:57.044416Z",
     "iopub.status.busy": "2023-08-26T15:24:57.043863Z",
     "iopub.status.idle": "2023-08-26T15:24:57.072924Z",
     "shell.execute_reply": "2023-08-26T15:24:57.071713Z"
    },
    "papermill": {
     "duration": 0.063033,
     "end_time": "2023-08-26T15:24:57.075178",
     "exception": false,
     "start_time": "2023-08-26T15:24:57.012145",
     "status": "completed"
    },
    "tags": []
   },
   "outputs": [
    {
     "data": {
      "text/plain": [
       "satisfaction_level          0\n",
       "last_evaluation             0\n",
       "number_project              0\n",
       "average_montly_hours        0\n",
       "time_spend_company       1282\n",
       "Work_accident            2169\n",
       "promotion_last_5years     319\n",
       "dtype: int64"
      ]
     },
     "execution_count": 24,
     "metadata": {},
     "output_type": "execute_result"
    }
   ],
   "source": [
    "numerical_features =['satisfaction_level',\n",
    "'last_evaluation',\n",
    "'number_project',\n",
    "'average_montly_hours',\n",
    "'time_spend_company',\n",
    "'Work_accident',\n",
    "'promotion_last_5years']\n",
    "\n",
    "Q1 = workers[numerical_features].quantile(0.25)\n",
    "Q3 = workers[numerical_features].quantile(0.75)\n",
    "IQR = Q3 - Q1\n",
    "outliers_count_specified = ((workers[numerical_features] < (Q1 - 1.5 * IQR)) | (workers[numerical_features] > (Q3 + 1.5 * IQR))).sum()\n",
    "\n",
    "outliers_count_specified"
   ]
  },
  {
   "cell_type": "code",
   "execution_count": 25,
   "id": "7d3a3a4e",
   "metadata": {
    "execution": {
     "iopub.execute_input": "2023-08-26T15:24:57.138468Z",
     "iopub.status.busy": "2023-08-26T15:24:57.137204Z",
     "iopub.status.idle": "2023-08-26T15:24:58.487854Z",
     "shell.execute_reply": "2023-08-26T15:24:58.486387Z"
    },
    "papermill": {
     "duration": 1.385113,
     "end_time": "2023-08-26T15:24:58.490725",
     "exception": false,
     "start_time": "2023-08-26T15:24:57.105612",
     "status": "completed"
    },
    "tags": []
   },
   "outputs": [
    {
     "data": {
      "image/png": "[encoded data removed]",
      "text/plain": [
       "<Figure size 800x600 with 1 Axes>"
      ]
     },
     "metadata": {},
     "output_type": "display_data"
    },
    {
     "data": {
      "image/png": "[encoded data removed]",
      "text/plain": [
       "<Figure size 800x600 with 1 Axes>"
      ]
     },
     "metadata": {},
     "output_type": "display_data"
    },
    {
     "data": {
      "image/png": "[encoded data removed]",
      "text/plain": [
       "<Figure size 800x600 with 1 Axes>"
      ]
     },
     "metadata": {},
     "output_type": "display_data"
    },
    {
     "data": {
      "image/png": "[encoded data removed]",
      "text/plain": [
       "<Figure size 800x600 with 1 Axes>"
      ]
     },
     "metadata": {},
     "output_type": "display_data"
    },
    {
     "data": {
      "image/png": "[encoded data removed]",
      "text/plain": [
       "<Figure size 800x600 with 1 Axes>"
      ]
     },
     "metadata": {},
     "output_type": "display_data"
    }
   ],
   "source": [
    "\n",
    "numerical_features =['satisfaction_level',\n",
    "'last_evaluation',\n",
    "'number_project',\n",
    "'average_montly_hours',\n",
    "'time_spend_company']\n",
    "for feature in numerical_features:\n",
    "    plt.figure(figsize=(8, 6))\n",
    "    plt.boxplot(workers[feature])\n",
    "    plt.title(f'Boxplot of {feature}')\n",
    "    plt.show()\n"
   ]
  },
  {
   "cell_type": "markdown",
   "id": "b8fd8d6c",
   "metadata": {
    "papermill": {
     "duration": 0.033015,
     "end_time": "2023-08-26T15:24:58.556979",
     "exception": false,
     "start_time": "2023-08-26T15:24:58.523964",
     "status": "completed"
    },
    "tags": []
   },
   "source": [
    "<a id=\"6\"></a>\n",
    "# <p style=\"background-color:#FF69B4;font-family:newtimeroman;color:black;font-size:170%;text-align:center;border-radius:10px 10px;\">✂️ SPLITING DATA</p>"
   ]
  },
  {
   "cell_type": "code",
   "execution_count": 26,
   "id": "6dc865a1",
   "metadata": {
    "execution": {
     "iopub.execute_input": "2023-08-26T15:24:58.627286Z",
     "iopub.status.busy": "2023-08-26T15:24:58.626895Z",
     "iopub.status.idle": "2023-08-26T15:24:58.634464Z",
     "shell.execute_reply": "2023-08-26T15:24:58.633188Z"
    },
    "papermill": {
     "duration": 0.045403,
     "end_time": "2023-08-26T15:24:58.637000",
     "exception": false,
     "start_time": "2023-08-26T15:24:58.591597",
     "status": "completed"
    },
    "tags": []
   },
   "outputs": [],
   "source": [
    "X=workers.drop(\"left\", axis=1)\n",
    "y = workers['left']"
   ]
  },
  {
   "cell_type": "code",
   "execution_count": 27,
   "id": "c93f48ab",
   "metadata": {
    "execution": {
     "iopub.execute_input": "2023-08-26T15:24:58.705762Z",
     "iopub.status.busy": "2023-08-26T15:24:58.705383Z",
     "iopub.status.idle": "2023-08-26T15:24:58.711956Z",
     "shell.execute_reply": "2023-08-26T15:24:58.710717Z"
    },
    "papermill": {
     "duration": 0.044382,
     "end_time": "2023-08-26T15:24:58.714898",
     "exception": false,
     "start_time": "2023-08-26T15:24:58.670516",
     "status": "completed"
    },
    "tags": []
   },
   "outputs": [
    {
     "name": "stdout",
     "output_type": "stream",
     "text": [
      "Shape of features: (14999, 9) with type: <class 'pandas.core.frame.DataFrame'>\n",
      "Shape of taget   : (14999,)    with type: <class 'pandas.core.series.Series'>\n"
     ]
    }
   ],
   "source": [
    "print(f'Shape of features: {X.shape} with type: {type(X)}')\n",
    "print(f'Shape of taget   : {y.shape}    with type: {type(y)}')"
   ]
  },
  {
   "cell_type": "markdown",
   "id": "5990a4d5",
   "metadata": {
    "papermill": {
     "duration": 0.034931,
     "end_time": "2023-08-26T15:24:58.783531",
     "exception": false,
     "start_time": "2023-08-26T15:24:58.748600",
     "status": "completed"
    },
    "tags": []
   },
   "source": [
    "<h3 style=\"background-color:#FF69B4;\">\n",
    "<!-- <div style=\"direction:rtl\">  </div> -->\n",
    "Convert reservation_status_date to separated columns\n",
    "</h3>"
   ]
  },
  {
   "cell_type": "code",
   "execution_count": 28,
   "id": "f5b4005d",
   "metadata": {
    "execution": {
     "iopub.execute_input": "2023-08-26T15:24:58.853344Z",
     "iopub.status.busy": "2023-08-26T15:24:58.852890Z",
     "iopub.status.idle": "2023-08-26T15:24:58.863194Z",
     "shell.execute_reply": "2023-08-26T15:24:58.861799Z"
    },
    "papermill": {
     "duration": 0.04773,
     "end_time": "2023-08-26T15:24:58.865716",
     "exception": false,
     "start_time": "2023-08-26T15:24:58.817986",
     "status": "completed"
    },
    "tags": []
   },
   "outputs": [
    {
     "data": {
      "text/plain": [
       "satisfaction_level       float64\n",
       "last_evaluation          float64\n",
       "number_project             int64\n",
       "average_montly_hours       int64\n",
       "time_spend_company         int64\n",
       "Work_accident              int64\n",
       "left                       int64\n",
       "promotion_last_5years      int64\n",
       "sales                     object\n",
       "salary                    object\n",
       "dtype: object"
      ]
     },
     "execution_count": 28,
     "metadata": {},
     "output_type": "execute_result"
    }
   ],
   "source": [
    "workers.dtypes"
   ]
  },
  {
   "cell_type": "code",
   "execution_count": 29,
   "id": "b980528f",
   "metadata": {
    "execution": {
     "iopub.execute_input": "2023-08-26T15:24:58.935445Z",
     "iopub.status.busy": "2023-08-26T15:24:58.934925Z",
     "iopub.status.idle": "2023-08-26T15:24:58.943899Z",
     "shell.execute_reply": "2023-08-26T15:24:58.942361Z"
    },
    "papermill": {
     "duration": 0.047509,
     "end_time": "2023-08-26T15:24:58.947027",
     "exception": false,
     "start_time": "2023-08-26T15:24:58.899518",
     "status": "completed"
    },
    "tags": []
   },
   "outputs": [
    {
     "name": "stdout",
     "output_type": "stream",
     "text": [
      "2 Index(['sales', 'salary'], dtype='object')\n",
      "7 Index(['satisfaction_level', 'last_evaluation', 'number_project',\n",
      "       'average_montly_hours', 'time_spend_company', 'Work_accident',\n",
      "       'promotion_last_5years'],\n",
      "      dtype='object')\n"
     ]
    }
   ],
   "source": [
    "categorical_features = X.columns[X.dtypes == 'object']\n",
    "numerical_features = X.columns[X.dtypes != 'object']\n",
    "print(categorical_features.size, categorical_features)\n",
    "print(numerical_features.size, numerical_features)"
   ]
  },
  {
   "cell_type": "markdown",
   "id": "f02b0723",
   "metadata": {
    "papermill": {
     "duration": 0.034425,
     "end_time": "2023-08-26T15:24:59.018477",
     "exception": false,
     "start_time": "2023-08-26T15:24:58.984052",
     "status": "completed"
    },
    "tags": []
   },
   "source": [
    "<h2 style=\"background-color:#FF69B4;\">\n",
    "<!-- <div style=\"direction:rtl\">  </div> -->\n",
    "Convert Categorical columns (OHE)\n",
    "</h2>"
   ]
  },
  {
   "cell_type": "code",
   "execution_count": 30,
   "id": "b634031a",
   "metadata": {
    "execution": {
     "iopub.execute_input": "2023-08-26T15:24:59.087834Z",
     "iopub.status.busy": "2023-08-26T15:24:59.087088Z",
     "iopub.status.idle": "2023-08-26T15:24:59.100500Z",
     "shell.execute_reply": "2023-08-26T15:24:59.098608Z"
    },
    "papermill": {
     "duration": 0.051452,
     "end_time": "2023-08-26T15:24:59.103522",
     "exception": false,
     "start_time": "2023-08-26T15:24:59.052070",
     "status": "completed"
    },
    "tags": []
   },
   "outputs": [
    {
     "name": "stdout",
     "output_type": "stream",
     "text": [
      "Index(['sales', 'salary'], dtype='object')\n",
      "sales     10\n",
      "salary     3\n",
      "dtype: int64\n"
     ]
    }
   ],
   "source": [
    "print(categorical_features)\n",
    "X[categorical_features]\n",
    "print(X[categorical_features].nunique())"
   ]
  },
  {
   "cell_type": "code",
   "execution_count": 31,
   "id": "eb961fd4",
   "metadata": {
    "execution": {
     "iopub.execute_input": "2023-08-26T15:24:59.173780Z",
     "iopub.status.busy": "2023-08-26T15:24:59.173349Z",
     "iopub.status.idle": "2023-08-26T15:24:59.215607Z",
     "shell.execute_reply": "2023-08-26T15:24:59.214123Z"
    },
    "papermill": {
     "duration": 0.080899,
     "end_time": "2023-08-26T15:24:59.218637",
     "exception": false,
     "start_time": "2023-08-26T15:24:59.137738",
     "status": "completed"
    },
    "tags": []
   },
   "outputs": [
    {
     "name": "stdout",
     "output_type": "stream",
     "text": [
      "OHE add (13 - 2 = 11) new columns:\n",
      "Shape BEFORE OHE:  (14999, 9)\n",
      "Shape AFTER  OHE:  (14999, 20)\n",
      "New type for feature vars. : <class 'numpy.ndarray'>\n",
      "\n"
     ]
    }
   ],
   "source": [
    "new_cols_num = X[categorical_features].nunique().sum()\n",
    "print(f'OHE add ({new_cols_num} - {categorical_features.size} = {new_cols_num - categorical_features.size}) new columns:')\n",
    "print(f'Shape BEFORE OHE:  {X.shape}')\n",
    "col_trans = ColumnTransformer(\n",
    "    [(col, OneHotEncoder(), [np.argmax(X.columns == col)]) for col in categorical_features],\n",
    "    remainder='passthrough', sparse_threshold= 0.1)\n",
    "X = col_trans.fit_transform(X)\n",
    "\n",
    "print(f'Shape AFTER  OHE:  {X.shape}')\n",
    "print(f'New type for feature vars. : {type(X)}\\n')"
   ]
  },
  {
   "cell_type": "code",
   "execution_count": 32,
   "id": "c095419f",
   "metadata": {
    "execution": {
     "iopub.execute_input": "2023-08-26T15:24:59.289195Z",
     "iopub.status.busy": "2023-08-26T15:24:59.288765Z",
     "iopub.status.idle": "2023-08-26T15:24:59.293920Z",
     "shell.execute_reply": "2023-08-26T15:24:59.292660Z"
    },
    "papermill": {
     "duration": 0.044107,
     "end_time": "2023-08-26T15:24:59.296464",
     "exception": false,
     "start_time": "2023-08-26T15:24:59.252357",
     "status": "completed"
    },
    "tags": []
   },
   "outputs": [],
   "source": [
    "from sklearn.model_selection import train_test_split"
   ]
  },
  {
   "cell_type": "code",
   "execution_count": 33,
   "id": "ee2ae878",
   "metadata": {
    "execution": {
     "iopub.execute_input": "2023-08-26T15:24:59.367692Z",
     "iopub.status.busy": "2023-08-26T15:24:59.366429Z",
     "iopub.status.idle": "2023-08-26T15:24:59.377008Z",
     "shell.execute_reply": "2023-08-26T15:24:59.376037Z"
    },
    "papermill": {
     "duration": 0.050056,
     "end_time": "2023-08-26T15:24:59.379967",
     "exception": false,
     "start_time": "2023-08-26T15:24:59.329911",
     "status": "completed"
    },
    "tags": []
   },
   "outputs": [],
   "source": [
    "X_train, X_test, y_train, y_test = train_test_split (X , y , test_size=0.3 , random_state=101)"
   ]
  },
  {
   "cell_type": "markdown",
   "id": "37341da9",
   "metadata": {
    "papermill": {
     "duration": 0.032384,
     "end_time": "2023-08-26T15:24:59.445744",
     "exception": false,
     "start_time": "2023-08-26T15:24:59.413360",
     "status": "completed"
    },
    "tags": []
   },
   "source": [
    "<a id=\"7\"></a>\n",
    "# <p style=\"background-color:#FF69B4;font-family:newtimeroman;color:black;font-size:150%;text-align:center;border-radius:10px 10px;\">📐 Scaling</p>\n"
   ]
  },
  {
   "cell_type": "code",
   "execution_count": 34,
   "id": "9057a1d0",
   "metadata": {
    "execution": {
     "iopub.execute_input": "2023-08-26T15:24:59.515313Z",
     "iopub.status.busy": "2023-08-26T15:24:59.514576Z",
     "iopub.status.idle": "2023-08-26T15:24:59.519232Z",
     "shell.execute_reply": "2023-08-26T15:24:59.518263Z"
    },
    "papermill": {
     "duration": 0.043317,
     "end_time": "2023-08-26T15:24:59.521543",
     "exception": false,
     "start_time": "2023-08-26T15:24:59.478226",
     "status": "completed"
    },
    "tags": []
   },
   "outputs": [],
   "source": [
    "from sklearn.preprocessing import StandardScaler"
   ]
  },
  {
   "cell_type": "code",
   "execution_count": 35,
   "id": "ce044896",
   "metadata": {
    "execution": {
     "iopub.execute_input": "2023-08-26T15:24:59.589675Z",
     "iopub.status.busy": "2023-08-26T15:24:59.589162Z",
     "iopub.status.idle": "2023-08-26T15:24:59.594643Z",
     "shell.execute_reply": "2023-08-26T15:24:59.593387Z"
    },
    "papermill": {
     "duration": 0.042596,
     "end_time": "2023-08-26T15:24:59.597182",
     "exception": false,
     "start_time": "2023-08-26T15:24:59.554586",
     "status": "completed"
    },
    "tags": []
   },
   "outputs": [],
   "source": [
    "scaler=StandardScaler()"
   ]
  },
  {
   "cell_type": "code",
   "execution_count": 36,
   "id": "77f26289",
   "metadata": {
    "execution": {
     "iopub.execute_input": "2023-08-26T15:24:59.669070Z",
     "iopub.status.busy": "2023-08-26T15:24:59.668082Z",
     "iopub.status.idle": "2023-08-26T15:24:59.678019Z",
     "shell.execute_reply": "2023-08-26T15:24:59.677194Z"
    },
    "papermill": {
     "duration": 0.05027,
     "end_time": "2023-08-26T15:24:59.680878",
     "exception": false,
     "start_time": "2023-08-26T15:24:59.630608",
     "status": "completed"
    },
    "tags": []
   },
   "outputs": [],
   "source": [
    "X_train=scaler.fit_transform(X_train)\n",
    "X_test=scaler.transform(X_test)"
   ]
  },
  {
   "cell_type": "markdown",
   "id": "6cd8dd9f",
   "metadata": {
    "papermill": {
     "duration": 0.033624,
     "end_time": "2023-08-26T15:24:59.748953",
     "exception": false,
     "start_time": "2023-08-26T15:24:59.715329",
     "status": "completed"
    },
    "tags": []
   },
   "source": [
    "<a id=\"8\"></a>\n",
    "# <p style=\"background-color:#FF69B4;font-family:newtimeroman;color:#black;font-size:150%;text-align:center;border-radius:10px 10px;\">💡 MODELS</p>"
   ]
  },
  {
   "cell_type": "markdown",
   "id": "544b400f",
   "metadata": {
    "papermill": {
     "duration": 0.033405,
     "end_time": "2023-08-26T15:24:59.816137",
     "exception": false,
     "start_time": "2023-08-26T15:24:59.782732",
     "status": "completed"
    },
    "tags": []
   },
   "source": [
    "# 1️⃣ DecisionTree 🌲"
   ]
  },
  {
   "cell_type": "code",
   "execution_count": 37,
   "id": "384cf2fb",
   "metadata": {
    "execution": {
     "iopub.execute_input": "2023-08-26T15:24:59.887152Z",
     "iopub.status.busy": "2023-08-26T15:24:59.886756Z",
     "iopub.status.idle": "2023-08-26T15:24:59.891636Z",
     "shell.execute_reply": "2023-08-26T15:24:59.890418Z"
    },
    "papermill": {
     "duration": 0.04346,
     "end_time": "2023-08-26T15:24:59.894558",
     "exception": false,
     "start_time": "2023-08-26T15:24:59.851098",
     "status": "completed"
    },
    "tags": []
   },
   "outputs": [],
   "source": [
    "from sklearn.tree import DecisionTreeRegressor\n",
    "from sklearn.metrics import mean_squared_error"
   ]
  },
  {
   "cell_type": "code",
   "execution_count": 38,
   "id": "32bf36b6",
   "metadata": {
    "execution": {
     "iopub.execute_input": "2023-08-26T15:24:59.964234Z",
     "iopub.status.busy": "2023-08-26T15:24:59.963766Z",
     "iopub.status.idle": "2023-08-26T15:24:59.969344Z",
     "shell.execute_reply": "2023-08-26T15:24:59.968035Z"
    },
    "papermill": {
     "duration": 0.043072,
     "end_time": "2023-08-26T15:24:59.971821",
     "exception": false,
     "start_time": "2023-08-26T15:24:59.928749",
     "status": "completed"
    },
    "tags": []
   },
   "outputs": [],
   "source": [
    "dt_model= DecisionTreeRegressor()"
   ]
  },
  {
   "cell_type": "code",
   "execution_count": 39,
   "id": "7e186000",
   "metadata": {
    "execution": {
     "iopub.execute_input": "2023-08-26T15:25:00.043642Z",
     "iopub.status.busy": "2023-08-26T15:25:00.042597Z",
     "iopub.status.idle": "2023-08-26T15:25:00.095984Z",
     "shell.execute_reply": "2023-08-26T15:25:00.095024Z"
    },
    "papermill": {
     "duration": 0.091861,
     "end_time": "2023-08-26T15:25:00.098494",
     "exception": false,
     "start_time": "2023-08-26T15:25:00.006633",
     "status": "completed"
    },
    "tags": []
   },
   "outputs": [
    {
     "data": {
      "text/html": [
       "<style>#sk-container-id-1 {color: black;background-color: white;}#sk-container-id-1 pre{padding: 0;}#sk-container-id-1 div.sk-toggleable {background-color: white;}#sk-container-id-1 label.sk-toggleable__label {cursor: pointer;display: block;width: 100%;margin-bottom: 0;padding: 0.3em;box-sizing: border-box;text-align: center;}#sk-container-id-1 label.sk-toggleable__label-arrow:before {content: \"▸\";float: left;margin-right: 0.25em;color: #696969;}#sk-container-id-1 label.sk-toggleable__label-arrow:hover:before {color: black;}#sk-container-id-1 div.sk-estimator:hover label.sk-toggleable__label-arrow:before {color: black;}#sk-container-id-1 div.sk-toggleable__content {max-height: 0;max-width: 0;overflow: hidden;text-align: left;background-color: #f0f8ff;}#sk-container-id-1 div.sk-toggleable__content pre {margin: 0.2em;color: black;border-radius: 0.25em;background-color: #f0f8ff;}#sk-container-id-1 input.sk-toggleable__control:checked~div.sk-toggleable__content {max-height: 200px;max-width: 100%;overflow: auto;}#sk-container-id-1 input.sk-toggleable__control:checked~label.sk-toggleable__label-arrow:before {content: \"▾\";}#sk-container-id-1 div.sk-estimator input.sk-toggleable__control:checked~label.sk-toggleable__label {background-color: #d4ebff;}#sk-container-id-1 div.sk-label input.sk-toggleable__control:checked~label.sk-toggleable__label {background-color: #d4ebff;}#sk-container-id-1 input.sk-hidden--visually {border: 0;clip: rect(1px 1px 1px 1px);clip: rect(1px, 1px, 1px, 1px);height: 1px;margin: -1px;overflow: hidden;padding: 0;position: absolute;width: 1px;}#sk-container-id-1 div.sk-estimator {font-family: monospace;background-color: #f0f8ff;border: 1px dotted black;border-radius: 0.25em;box-sizing: border-box;margin-bottom: 0.5em;}#sk-container-id-1 div.sk-estimator:hover {background-color: #d4ebff;}#sk-container-id-1 div.sk-parallel-item::after {content: \"\";width: 100%;border-bottom: 1px solid gray;flex-grow: 1;}#sk-container-id-1 div.sk-label:hover label.sk-toggleable__label {background-color: #d4ebff;}#sk-container-id-1 div.sk-serial::before {content: \"\";position: absolute;border-left: 1px solid gray;box-sizing: border-box;top: 0;bottom: 0;left: 50%;z-index: 0;}#sk-container-id-1 div.sk-serial {display: flex;flex-direction: column;align-items: center;background-color: white;padding-right: 0.2em;padding-left: 0.2em;position: relative;}#sk-container-id-1 div.sk-item {position: relative;z-index: 1;}#sk-container-id-1 div.sk-parallel {display: flex;align-items: stretch;justify-content: center;background-color: white;position: relative;}#sk-container-id-1 div.sk-item::before, #sk-container-id-1 div.sk-parallel-item::before {content: \"\";position: absolute;border-left: 1px solid gray;box-sizing: border-box;top: 0;bottom: 0;left: 50%;z-index: -1;}#sk-container-id-1 div.sk-parallel-item {display: flex;flex-direction: column;z-index: 1;position: relative;background-color: white;}#sk-container-id-1 div.sk-parallel-item:first-child::after {align-self: flex-end;width: 50%;}#sk-container-id-1 div.sk-parallel-item:last-child::after {align-self: flex-start;width: 50%;}#sk-container-id-1 div.sk-parallel-item:only-child::after {width: 0;}#sk-container-id-1 div.sk-dashed-wrapped {border: 1px dashed gray;margin: 0 0.4em 0.5em 0.4em;box-sizing: border-box;padding-bottom: 0.4em;background-color: white;}#sk-container-id-1 div.sk-label label {font-family: monospace;font-weight: bold;display: inline-block;line-height: 1.2em;}#sk-container-id-1 div.sk-label-container {text-align: center;}#sk-container-id-1 div.sk-container {/* jupyter's `normalize.less` sets `[hidden] { display: none; }` but bootstrap.min.css set `[hidden] { display: none !important; }` so we also need the `!important` here to be able to override the default hidden behavior on the sphinx rendered scikit-learn.org. See: https://github.com/scikit-learn/scikit-learn/issues/21755 */display: inline-block !important;position: relative;}#sk-container-id-1 div.sk-text-repr-fallback {display: none;}</style><div id=\"sk-container-id-1\" class=\"sk-top-container\"><div class=\"sk-text-repr-fallback\"><pre>DecisionTreeRegressor()</pre><b>In a Jupyter environment, please rerun this cell to show the HTML representation or trust the notebook. <br />On GitHub, the HTML representation is unable to render, please try loading this page with nbviewer.org.</b></div><div class=\"sk-container\" hidden><div class=\"sk-item\"><div class=\"sk-estimator sk-toggleable\"><input class=\"sk-toggleable__control sk-hidden--visually\" id=\"sk-estimator-id-1\" type=\"checkbox\" checked><label for=\"sk-estimator-id-1\" class=\"sk-toggleable__label sk-toggleable__label-arrow\">DecisionTreeRegressor</label><div class=\"sk-toggleable__content\"><pre>DecisionTreeRegressor()</pre></div></div></div></div></div>"
      ],
      "text/plain": [
       "DecisionTreeRegressor()"
      ]
     },
     "execution_count": 39,
     "metadata": {},
     "output_type": "execute_result"
    }
   ],
   "source": [
    "dt_model.fit(X_train,y_train)"
   ]
  },
  {
   "cell_type": "code",
   "execution_count": 40,
   "id": "07c20aec",
   "metadata": {
    "execution": {
     "iopub.execute_input": "2023-08-26T15:25:00.172142Z",
     "iopub.status.busy": "2023-08-26T15:25:00.171712Z",
     "iopub.status.idle": "2023-08-26T15:25:00.181770Z",
     "shell.execute_reply": "2023-08-26T15:25:00.180631Z"
    },
    "papermill": {
     "duration": 0.050196,
     "end_time": "2023-08-26T15:25:00.184451",
     "exception": false,
     "start_time": "2023-08-26T15:25:00.134255",
     "status": "completed"
    },
    "tags": []
   },
   "outputs": [
    {
     "data": {
      "text/plain": [
       "1.0"
      ]
     },
     "execution_count": 40,
     "metadata": {},
     "output_type": "execute_result"
    }
   ],
   "source": [
    "dt_model.score(X_train,y_train)"
   ]
  },
  {
   "cell_type": "code",
   "execution_count": 41,
   "id": "aaab00f6",
   "metadata": {
    "execution": {
     "iopub.execute_input": "2023-08-26T15:25:00.256718Z",
     "iopub.status.busy": "2023-08-26T15:25:00.256310Z",
     "iopub.status.idle": "2023-08-26T15:25:00.266915Z",
     "shell.execute_reply": "2023-08-26T15:25:00.265691Z"
    },
    "papermill": {
     "duration": 0.049133,
     "end_time": "2023-08-26T15:25:00.269418",
     "exception": false,
     "start_time": "2023-08-26T15:25:00.220285",
     "status": "completed"
    },
    "tags": []
   },
   "outputs": [
    {
     "data": {
      "text/plain": [
       "0.8883508341242384"
      ]
     },
     "execution_count": 41,
     "metadata": {},
     "output_type": "execute_result"
    }
   ],
   "source": [
    "dt_model.score(X_test,y_test)"
   ]
  },
  {
   "cell_type": "markdown",
   "id": "6509ef54",
   "metadata": {
    "papermill": {
     "duration": 0.034645,
     "end_time": "2023-08-26T15:25:00.339875",
     "exception": false,
     "start_time": "2023-08-26T15:25:00.305230",
     "status": "completed"
    },
    "tags": []
   },
   "source": [
    "## 🔎  Predict Dt"
   ]
  },
  {
   "cell_type": "code",
   "execution_count": 42,
   "id": "7d419c6d",
   "metadata": {
    "execution": {
     "iopub.execute_input": "2023-08-26T15:25:00.411620Z",
     "iopub.status.busy": "2023-08-26T15:25:00.410874Z",
     "iopub.status.idle": "2023-08-26T15:25:00.416169Z",
     "shell.execute_reply": "2023-08-26T15:25:00.415348Z"
    },
    "papermill": {
     "duration": 0.044292,
     "end_time": "2023-08-26T15:25:00.418485",
     "exception": false,
     "start_time": "2023-08-26T15:25:00.374193",
     "status": "completed"
    },
    "tags": []
   },
   "outputs": [],
   "source": [
    "y_pred_dt=dt_model.predict(X_test)"
   ]
  },
  {
   "cell_type": "markdown",
   "id": "d0f12d69",
   "metadata": {
    "papermill": {
     "duration": 0.034289,
     "end_time": "2023-08-26T15:25:00.487097",
     "exception": false,
     "start_time": "2023-08-26T15:25:00.452808",
     "status": "completed"
    },
    "tags": []
   },
   "source": [
    "## Evaluate the model using mean squared error (MSE)"
   ]
  },
  {
   "cell_type": "code",
   "execution_count": 43,
   "id": "9889d0f1",
   "metadata": {
    "execution": {
     "iopub.execute_input": "2023-08-26T15:25:00.559412Z",
     "iopub.status.busy": "2023-08-26T15:25:00.558557Z",
     "iopub.status.idle": "2023-08-26T15:25:00.565524Z",
     "shell.execute_reply": "2023-08-26T15:25:00.563965Z"
    },
    "papermill": {
     "duration": 0.046409,
     "end_time": "2023-08-26T15:25:00.567893",
     "exception": false,
     "start_time": "2023-08-26T15:25:00.521484",
     "status": "completed"
    },
    "tags": []
   },
   "outputs": [
    {
     "name": "stdout",
     "output_type": "stream",
     "text": [
      "Mean Squared Error: 0.02022222222222222\n"
     ]
    }
   ],
   "source": [
    "mse=mean_squared_error(y_test, y_pred_dt)\n",
    "print(f\"Mean Squared Error: {mse}\")"
   ]
  },
  {
   "cell_type": "code",
   "execution_count": 44,
   "id": "90f85cfa",
   "metadata": {
    "execution": {
     "iopub.execute_input": "2023-08-26T15:25:00.637869Z",
     "iopub.status.busy": "2023-08-26T15:25:00.636458Z",
     "iopub.status.idle": "2023-08-26T15:25:00.642423Z",
     "shell.execute_reply": "2023-08-26T15:25:00.641373Z"
    },
    "papermill": {
     "duration": 0.043511,
     "end_time": "2023-08-26T15:25:00.644784",
     "exception": false,
     "start_time": "2023-08-26T15:25:00.601273",
     "status": "completed"
    },
    "tags": []
   },
   "outputs": [],
   "source": [
    "from sklearn import metrics"
   ]
  },
  {
   "cell_type": "code",
   "execution_count": 45,
   "id": "8f7eec71",
   "metadata": {
    "execution": {
     "iopub.execute_input": "2023-08-26T15:25:00.713677Z",
     "iopub.status.busy": "2023-08-26T15:25:00.712976Z",
     "iopub.status.idle": "2023-08-26T15:25:00.720153Z",
     "shell.execute_reply": "2023-08-26T15:25:00.718941Z"
    },
    "papermill": {
     "duration": 0.044143,
     "end_time": "2023-08-26T15:25:00.722286",
     "exception": false,
     "start_time": "2023-08-26T15:25:00.678143",
     "status": "completed"
    },
    "tags": []
   },
   "outputs": [
    {
     "name": "stdout",
     "output_type": "stream",
     "text": [
      "r2_score: 0.8883508341242384\n"
     ]
    }
   ],
   "source": [
    "r2=metrics.r2_score(y_test, y_pred_dt)\n",
    "print(f\"r2_score: {r2}\")\n"
   ]
  },
  {
   "cell_type": "markdown",
   "id": "a32e5661",
   "metadata": {
    "papermill": {
     "duration": 0.032875,
     "end_time": "2023-08-26T15:25:00.789413",
     "exception": false,
     "start_time": "2023-08-26T15:25:00.756538",
     "status": "completed"
    },
    "tags": []
   },
   "source": [
    "## Grid Search Dt"
   ]
  },
  {
   "cell_type": "code",
   "execution_count": 46,
   "id": "16766b24",
   "metadata": {
    "execution": {
     "iopub.execute_input": "2023-08-26T15:25:00.857870Z",
     "iopub.status.busy": "2023-08-26T15:25:00.857195Z",
     "iopub.status.idle": "2023-08-26T15:25:04.690705Z",
     "shell.execute_reply": "2023-08-26T15:25:04.689499Z"
    },
    "papermill": {
     "duration": 3.870866,
     "end_time": "2023-08-26T15:25:04.693359",
     "exception": false,
     "start_time": "2023-08-26T15:25:00.822493",
     "status": "completed"
    },
    "tags": []
   },
   "outputs": [
    {
     "name": "stdout",
     "output_type": "stream",
     "text": [
      "Best Parameters: {'max_depth': 10, 'min_samples_leaf': 4, 'min_samples_split': 10}\n",
      "Best Mean Squared Error: 0.017441021418560586\n"
     ]
    }
   ],
   "source": [
    "# Create a Decision Tree Regressor\n",
    "model = DecisionTreeRegressor()\n",
    "\n",
    "# Define a parameter grid to search over\n",
    "param_grid = {\n",
    "    'max_depth': [None, 10, 20],\n",
    "    'min_samples_split': [2, 5, 10],\n",
    "    'min_samples_leaf': [1, 2, 4]\n",
    "}\n",
    "\n",
    "# Create GridSearchCV object with the model and parameter grid\n",
    "grid_search = GridSearchCV(model, param_grid, cv=5, scoring='neg_mean_squared_error')\n",
    "\n",
    "# Fit the GridSearchCV object to the training data\n",
    "grid_search.fit(X_train, y_train)\n",
    "\n",
    "# Get the best parameters and best estimator from the grid search\n",
    "best_params = grid_search.best_params_\n",
    "best_estimator = grid_search.best_estimator_\n",
    "\n",
    "# Predict using the best estimator\n",
    "y_pred = best_estimator.predict(X_test)\n",
    "\n",
    "# Evaluate the model using mean squared error\n",
    "mse = mean_squared_error(y_test, y_pred)\n",
    "print(f\"Best Parameters: {best_params}\")\n",
    "print(f\"Best Mean Squared Error: {mse}\")"
   ]
  },
  {
   "cell_type": "markdown",
   "id": "01e48689",
   "metadata": {
    "papermill": {
     "duration": 0.036633,
     "end_time": "2023-08-26T15:25:04.766499",
     "exception": false,
     "start_time": "2023-08-26T15:25:04.729866",
     "status": "completed"
    },
    "tags": []
   },
   "source": [
    "## 2️⃣.SVM "
   ]
  },
  {
   "cell_type": "code",
   "execution_count": 47,
   "id": "3e6baae4",
   "metadata": {
    "execution": {
     "iopub.execute_input": "2023-08-26T15:25:04.842504Z",
     "iopub.status.busy": "2023-08-26T15:25:04.841955Z",
     "iopub.status.idle": "2023-08-26T15:25:09.046816Z",
     "shell.execute_reply": "2023-08-26T15:25:09.045571Z"
    },
    "papermill": {
     "duration": 4.24671,
     "end_time": "2023-08-26T15:25:09.049781",
     "exception": false,
     "start_time": "2023-08-26T15:25:04.803071",
     "status": "completed"
    },
    "tags": []
   },
   "outputs": [],
   "source": [
    "from sklearn.svm import SVR\n",
    "s=SVR()\n",
    "s.fit(X_train,y_train)\n",
    "y_pred_dt=s.predict(X_test)"
   ]
  },
  {
   "cell_type": "code",
   "execution_count": 48,
   "id": "88dc850f",
   "metadata": {
    "execution": {
     "iopub.execute_input": "2023-08-26T15:25:09.123929Z",
     "iopub.status.busy": "2023-08-26T15:25:09.123041Z",
     "iopub.status.idle": "2023-08-26T15:25:09.130726Z",
     "shell.execute_reply": "2023-08-26T15:25:09.129765Z"
    },
    "papermill": {
     "duration": 0.04527,
     "end_time": "2023-08-26T15:25:09.132989",
     "exception": false,
     "start_time": "2023-08-26T15:25:09.087719",
     "status": "completed"
    },
    "tags": []
   },
   "outputs": [
    {
     "data": {
      "text/plain": [
       "0.12810171224092431"
      ]
     },
     "execution_count": 48,
     "metadata": {},
     "output_type": "execute_result"
    }
   ],
   "source": [
    "metrics.mean_absolute_error(y_test,y_pred_dt)"
   ]
  },
  {
   "cell_type": "code",
   "execution_count": 49,
   "id": "0c0e66cd",
   "metadata": {
    "execution": {
     "iopub.execute_input": "2023-08-26T15:25:09.203597Z",
     "iopub.status.busy": "2023-08-26T15:25:09.202820Z",
     "iopub.status.idle": "2023-08-26T15:25:09.209850Z",
     "shell.execute_reply": "2023-08-26T15:25:09.208406Z"
    },
    "papermill": {
     "duration": 0.04565,
     "end_time": "2023-08-26T15:25:09.212214",
     "exception": false,
     "start_time": "2023-08-26T15:25:09.166564",
     "status": "completed"
    },
    "tags": []
   },
   "outputs": [
    {
     "name": "stdout",
     "output_type": "stream",
     "text": [
      "r2_score: 0.7410127355069809\n"
     ]
    }
   ],
   "source": [
    "r2=metrics.r2_score(y_test, y_pred_dt)\n",
    "print(f\"r2_score: {r2}\")\n"
   ]
  },
  {
   "cell_type": "markdown",
   "id": "2e272af7",
   "metadata": {
    "papermill": {
     "duration": 0.033909,
     "end_time": "2023-08-26T15:25:09.279984",
     "exception": false,
     "start_time": "2023-08-26T15:25:09.246075",
     "status": "completed"
    },
    "tags": []
   },
   "source": [
    "## 3.xgboost\n"
   ]
  },
  {
   "cell_type": "code",
   "execution_count": null,
   "id": "c10b92fa",
   "metadata": {
    "papermill": {
     "duration": 0.03355,
     "end_time": "2023-08-26T15:25:09.347165",
     "exception": false,
     "start_time": "2023-08-26T15:25:09.313615",
     "status": "completed"
    },
    "tags": []
   },
   "outputs": [],
   "source": []
  }
 ],
 "metadata": {
  "kernelspec": {
   "display_name": "Python 3",
   "language": "python",
   "name": "python3"
  },
  "language_info": {
   "codemirror_mode": {
    "name": "ipython",
    "version": 3
   },
   "file_extension": ".py",
   "mimetype": "text/x-python",
   "name": "python",
   "nbconvert_exporter": "python",
   "pygments_lexer": "ipython3",
   "version": "3.10.12"
  },
  "papermill": {
   "default_parameters": {},
   "duration": 35.448945,
   "end_time": "2023-08-26T15:25:10.605648",
   "environment_variables": {},
   "exception": null,
   "input_path": "__notebook__.ipynb",
   "output_path": "__notebook__.ipynb",
   "parameters": {},
   "start_time": "2023-08-26T15:24:35.156703",
   "version": "2.4.0"
  }
 },
 "nbformat": 4,
 "nbformat_minor": 5
}
